{
  "nbformat": 4,
  "nbformat_minor": 0,
  "metadata": {
    "colab": {
      "name": "AI_ChatBot_ENG.ipynb",
      "provenance": []
    },
    "kernelspec": {
      "name": "python3",
      "display_name": "Python 3"
    },
    "language_info": {
      "name": "python"
    }
  },
  "cells": [
    {
      "cell_type": "code",
      "metadata": {
        "colab": {
          "base_uri": "https://localhost:8080/"
        },
        "id": "B92U330E8TvS",
        "outputId": "c8a4a8e6-f820-45f6-8e89-d40d475099d1"
      },
      "source": [
        "pip install newspaper3k"
      ],
      "execution_count": null,
      "outputs": [
        {
          "output_type": "stream",
          "name": "stdout",
          "text": [
            "Collecting newspaper3k\n",
            "  Downloading newspaper3k-0.2.8-py3-none-any.whl (211 kB)\n",
            "\u001b[?25l\r\u001b[K     |█▌                              | 10 kB 25.9 MB/s eta 0:00:01\r\u001b[K     |███                             | 20 kB 30.6 MB/s eta 0:00:01\r\u001b[K     |████▋                           | 30 kB 32.8 MB/s eta 0:00:01\r\u001b[K     |██████▏                         | 40 kB 34.2 MB/s eta 0:00:01\r\u001b[K     |███████▊                        | 51 kB 33.6 MB/s eta 0:00:01\r\u001b[K     |█████████▎                      | 61 kB 34.0 MB/s eta 0:00:01\r\u001b[K     |██████████▉                     | 71 kB 29.4 MB/s eta 0:00:01\r\u001b[K     |████████████▍                   | 81 kB 30.0 MB/s eta 0:00:01\r\u001b[K     |██████████████                  | 92 kB 31.7 MB/s eta 0:00:01\r\u001b[K     |███████████████▌                | 102 kB 30.2 MB/s eta 0:00:01\r\u001b[K     |█████████████████               | 112 kB 30.2 MB/s eta 0:00:01\r\u001b[K     |██████████████████▋             | 122 kB 30.2 MB/s eta 0:00:01\r\u001b[K     |████████████████████▏           | 133 kB 30.2 MB/s eta 0:00:01\r\u001b[K     |█████████████████████▊          | 143 kB 30.2 MB/s eta 0:00:01\r\u001b[K     |███████████████████████▎        | 153 kB 30.2 MB/s eta 0:00:01\r\u001b[K     |████████████████████████▉       | 163 kB 30.2 MB/s eta 0:00:01\r\u001b[K     |██████████████████████████▍     | 174 kB 30.2 MB/s eta 0:00:01\r\u001b[K     |████████████████████████████    | 184 kB 30.2 MB/s eta 0:00:01\r\u001b[K     |█████████████████████████████▌  | 194 kB 30.2 MB/s eta 0:00:01\r\u001b[K     |███████████████████████████████ | 204 kB 30.2 MB/s eta 0:00:01\r\u001b[K     |████████████████████████████████| 211 kB 30.2 MB/s \n",
            "\u001b[?25hCollecting cssselect>=0.9.2\n",
            "  Downloading cssselect-1.1.0-py2.py3-none-any.whl (16 kB)\n",
            "Requirement already satisfied: requests>=2.10.0 in /usr/local/lib/python3.7/dist-packages (from newspaper3k) (2.23.0)\n",
            "Requirement already satisfied: lxml>=3.6.0 in /usr/local/lib/python3.7/dist-packages (from newspaper3k) (4.2.6)\n",
            "Collecting jieba3k>=0.35.1\n",
            "  Downloading jieba3k-0.35.1.zip (7.4 MB)\n",
            "\u001b[K     |████████████████████████████████| 7.4 MB 35.2 MB/s \n",
            "\u001b[?25hCollecting feedfinder2>=0.0.4\n",
            "  Downloading feedfinder2-0.0.4.tar.gz (3.3 kB)\n",
            "Requirement already satisfied: python-dateutil>=2.5.3 in /usr/local/lib/python3.7/dist-packages (from newspaper3k) (2.8.2)\n",
            "Requirement already satisfied: beautifulsoup4>=4.4.1 in /usr/local/lib/python3.7/dist-packages (from newspaper3k) (4.6.3)\n",
            "Requirement already satisfied: PyYAML>=3.11 in /usr/local/lib/python3.7/dist-packages (from newspaper3k) (3.13)\n",
            "Collecting feedparser>=5.2.1\n",
            "  Downloading feedparser-6.0.8-py3-none-any.whl (81 kB)\n",
            "\u001b[K     |████████████████████████████████| 81 kB 11.0 MB/s \n",
            "\u001b[?25hCollecting tinysegmenter==0.3\n",
            "  Downloading tinysegmenter-0.3.tar.gz (16 kB)\n",
            "Collecting tldextract>=2.0.1\n",
            "  Downloading tldextract-3.1.2-py2.py3-none-any.whl (87 kB)\n",
            "\u001b[K     |████████████████████████████████| 87 kB 7.1 MB/s \n",
            "\u001b[?25hRequirement already satisfied: nltk>=3.2.1 in /usr/local/lib/python3.7/dist-packages (from newspaper3k) (3.2.5)\n",
            "Requirement already satisfied: Pillow>=3.3.0 in /usr/local/lib/python3.7/dist-packages (from newspaper3k) (7.1.2)\n",
            "Requirement already satisfied: six in /usr/local/lib/python3.7/dist-packages (from feedfinder2>=0.0.4->newspaper3k) (1.15.0)\n",
            "Collecting sgmllib3k\n",
            "  Downloading sgmllib3k-1.0.0.tar.gz (5.8 kB)\n",
            "Requirement already satisfied: idna<3,>=2.5 in /usr/local/lib/python3.7/dist-packages (from requests>=2.10.0->newspaper3k) (2.10)\n",
            "Requirement already satisfied: chardet<4,>=3.0.2 in /usr/local/lib/python3.7/dist-packages (from requests>=2.10.0->newspaper3k) (3.0.4)\n",
            "Requirement already satisfied: certifi>=2017.4.17 in /usr/local/lib/python3.7/dist-packages (from requests>=2.10.0->newspaper3k) (2021.5.30)\n",
            "Requirement already satisfied: urllib3!=1.25.0,!=1.25.1,<1.26,>=1.21.1 in /usr/local/lib/python3.7/dist-packages (from requests>=2.10.0->newspaper3k) (1.24.3)\n",
            "Requirement already satisfied: filelock>=3.0.8 in /usr/local/lib/python3.7/dist-packages (from tldextract>=2.0.1->newspaper3k) (3.3.0)\n",
            "Collecting requests-file>=1.4\n",
            "  Downloading requests_file-1.5.1-py2.py3-none-any.whl (3.7 kB)\n",
            "Building wheels for collected packages: tinysegmenter, feedfinder2, jieba3k, sgmllib3k\n",
            "  Building wheel for tinysegmenter (setup.py) ... \u001b[?25l\u001b[?25hdone\n",
            "  Created wheel for tinysegmenter: filename=tinysegmenter-0.3-py3-none-any.whl size=13552 sha256=a84d455d2dde83d18c01275f46233ac9cc2c26c4dee805d5f5c7e0e6d3d0db5e\n",
            "  Stored in directory: /root/.cache/pip/wheels/df/67/41/faca10fa501ca010be41b49d40360c2959e1c4f09bcbfa37fa\n",
            "  Building wheel for feedfinder2 (setup.py) ... \u001b[?25l\u001b[?25hdone\n",
            "  Created wheel for feedfinder2: filename=feedfinder2-0.0.4-py3-none-any.whl size=3356 sha256=fd573dd683e73e7802b52c13457e4d34e76f201bdf4cbc33ec4e17a4067e4e55\n",
            "  Stored in directory: /root/.cache/pip/wheels/7f/d4/8f/6e2ca54744c9d7292d88ddb8d42876bcdab5e6d84a21c10346\n",
            "  Building wheel for jieba3k (setup.py) ... \u001b[?25l\u001b[?25hdone\n",
            "  Created wheel for jieba3k: filename=jieba3k-0.35.1-py3-none-any.whl size=7398405 sha256=c375d981ba10dfa3129be458e68d0a85eaca33a20e8cf58762a05ccf82ab2fc5\n",
            "  Stored in directory: /root/.cache/pip/wheels/4c/91/46/3c208287b726df325a5979574324878b679116e4baae1af3c3\n",
            "  Building wheel for sgmllib3k (setup.py) ... \u001b[?25l\u001b[?25hdone\n",
            "  Created wheel for sgmllib3k: filename=sgmllib3k-1.0.0-py3-none-any.whl size=6065 sha256=9bba8b71b948b25f4a081fe586297557cddf7978c6c19b04ad88010316313188\n",
            "  Stored in directory: /root/.cache/pip/wheels/73/ad/a4/0dff4a6ef231fc0dfa12ffbac2a36cebfdddfe059f50e019aa\n",
            "Successfully built tinysegmenter feedfinder2 jieba3k sgmllib3k\n",
            "Installing collected packages: sgmllib3k, requests-file, tldextract, tinysegmenter, jieba3k, feedparser, feedfinder2, cssselect, newspaper3k\n",
            "Successfully installed cssselect-1.1.0 feedfinder2-0.0.4 feedparser-6.0.8 jieba3k-0.35.1 newspaper3k-0.2.8 requests-file-1.5.1 sgmllib3k-1.0.0 tinysegmenter-0.3 tldextract-3.1.2\n"
          ]
        }
      ]
    },
    {
      "cell_type": "markdown",
      "metadata": {
        "id": "kAkZWQTE821B"
      },
      "source": [
        "## **IMPORT LIBRARY**"
      ]
    },
    {
      "cell_type": "code",
      "metadata": {
        "id": "Fb2OkMw68jAY"
      },
      "source": [
        "from newspaper import Article\n",
        "import random\n",
        "import nltk\n",
        "import string\n",
        "from sklearn.feature_extraction.text import CountVectorizer\n",
        "from sklearn.metrics.pairwise import cosine_similarity\n",
        "import numpy as np\n",
        "import warnings\n",
        "warnings.filterwarnings('ignore')"
      ],
      "execution_count": null,
      "outputs": []
    },
    {
      "cell_type": "code",
      "metadata": {
        "colab": {
          "base_uri": "https://localhost:8080/"
        },
        "id": "k-DBGUV987F0",
        "outputId": "809fd627-3acd-43ae-8f9e-56f3f6a9bb97"
      },
      "source": [
        "nltk.download('punkt', quiet=True)"
      ],
      "execution_count": null,
      "outputs": [
        {
          "output_type": "execute_result",
          "data": {
            "text/plain": [
              "True"
            ]
          },
          "metadata": {},
          "execution_count": 3
        }
      ]
    },
    {
      "cell_type": "markdown",
      "metadata": {
        "id": "30dwxjPC-PXJ"
      },
      "source": [
        "## **PREPARE ARTICLE**"
      ]
    },
    {
      "cell_type": "code",
      "metadata": {
        "colab": {
          "base_uri": "https://localhost:8080/"
        },
        "id": "X5X6z81r93U3",
        "outputId": "b14ba4b0-6592-4ec0-b77c-0389c6ee2e90"
      },
      "source": [
        "article  = Article('https://www.newscientist.com/article/mg25033380-600-we-are-satellites-review-what-brain-implants-could-do-to-family-life/')\n",
        "article.download()\n",
        "article.parse()\n",
        "article.nlp()\n",
        "corpus = article.text\n",
        "print(corpus)"
      ],
      "execution_count": null,
      "outputs": [
        {
          "output_type": "stream",
          "name": "stdout",
          "text": [
            "A brain implant promises to boost multitasking in We Are Satellites metamorworks/Getty Images We Are Satellites Sarah Pinsker Head of Zeus Advertisement\n",
            "\n",
            "CAN we really trust a company seeking to put wires in our brains? And is it worth suspending any mistrust for the sake of our children’s futures? These are the deep, real-life questions posed by award-winning author Sarah Pinsker in her second sci-fi novel, We Are Satellites.\n",
            "\n",
            "The story follows a family of four as they become increasingly entangled in the debate on a brain-boosting implant called the Pilot. Pinsker skilfully takes us on a journey that is about far more than mere technology as the Pilot becomes part of everyday life, from schools to government offices.\n",
            "\n",
            "The novel excels at integrating questions about the medical technology industry with genuine representations of queer love and family life. Every twist and turn of the novel has family at its heart. The differing opinions of the parents, mothers Val and Julie, on the Pilot sets up a tense family dynamic, fraught with arguments and difficult conversations.\n",
            "\n",
            "Unlike Elon Musk’s Neuralink or other brain stimulation devices that are designed to help people with disabilities, the Pilot has one core function: multitasking. It also claims to enhance the attention span of its users. Val and Julie have to consider whether they want their children Sophie and David to opt for this little-understood procedure.\n",
            "\n",
            "The first part of the novel revolves around the anxieties of deciding whether or not you want your child to have an invasive procedure for the sake of keeping up with classmates. It touches on the theme of accessibility as Sophie has epilepsy, leaving her unable to have a Pilot implanted. The discussion of discrimination throughout the novel does well to address concerns that technology which could give some people an advantage might leave others behind.\n",
            "\n",
            "The pace of the novel lends itself to character-building, with the first two parts spending time helping us understand each character’s motivations. Pinsker gives us a glimpse inside the minds of the characters, showing us how little they communicate their innermost thoughts and how this affects their family.\n",
            "\n",
            "The technology in We Are Satellites is similar to an existing brain implant meant to enhance memory. Instead of enhancing memory, the Pilot works by stimulating the right temporoparietal junction in the brain, which is responsible for reorienting attention.\n",
            "\n",
            "The focus of the novel isn’t how the technology works, however, but the implications it has for society. The Pilot’s popularity leaves those who don’t have it – because they can’t afford it, they object to having wires in their brain or they have a disability – at a disadvantage. No Pilot means less by way of job opportunities.\n",
            "\n",
            "“We can never really be sure about the full ramifications of having wires and electrodes in the brain”\n",
            "\n",
            "Far from being a doomy, dystopian novel about terrifying technology, We Are Satellites takes a balanced look at the pros and cons while maintaining healthy scepticism towards the medical technology sector. Through David, we are shown we can never really be sure about the ramifications of having wires and electrodes stuck in the brain – and how hard it can be to communicate exactly what is going on in your own head.\n",
            "\n",
            "Sophie’s involvement in the anti-Pilot movement becomes another source of turmoil for the family as she embarks on a mission to discover the truth about the technology – no matter what the cost.\n",
            "\n",
            "The story increases in pace during its third part, with several incredibly captivating chapters packed with action and tension as we begin to understand Sophie’s mistrust of the Pilot.\n",
            "\n",
            "We Are Satellites is a story about technology with family at its heart. It’s not just about whether we trust scientists to stick things in our brain, or even what happens when technology goes wrong. It’s about what brain-enhancing could do for us, who it would exclude and what happens when a family becomes tangled up within the debate.\n"
          ]
        }
      ]
    },
    {
      "cell_type": "markdown",
      "metadata": {
        "id": "jTRyKwT_CDVY"
      },
      "source": [
        "## **TOKENIZATION**"
      ]
    },
    {
      "cell_type": "code",
      "metadata": {
        "colab": {
          "base_uri": "https://localhost:8080/"
        },
        "id": "B552x7Zw-pe-",
        "outputId": "afe3c7ae-cef8-4865-c43a-9f54d6094262"
      },
      "source": [
        "# Tokenization\n",
        "text = corpus\n",
        "sentence_list = nltk.sent_tokenize(text) #A list of senetences\n",
        "\n",
        "# Print the list of sentences\n",
        "print(sentence_list)"
      ],
      "execution_count": null,
      "outputs": [
        {
          "output_type": "stream",
          "name": "stdout",
          "text": [
            "['A brain implant promises to boost multitasking in We Are Satellites metamorworks/Getty Images We Are Satellites Sarah Pinsker Head of Zeus Advertisement\\n\\nCAN we really trust a company seeking to put wires in our brains?', 'And is it worth suspending any mistrust for the sake of our children’s futures?', 'These are the deep, real-life questions posed by award-winning author Sarah Pinsker in her second sci-fi novel, We Are Satellites.', 'The story follows a family of four as they become increasingly entangled in the debate on a brain-boosting implant called the Pilot.', 'Pinsker skilfully takes us on a journey that is about far more than mere technology as the Pilot becomes part of everyday life, from schools to government offices.', 'The novel excels at integrating questions about the medical technology industry with genuine representations of queer love and family life.', 'Every twist and turn of the novel has family at its heart.', 'The differing opinions of the parents, mothers Val and Julie, on the Pilot sets up a tense family dynamic, fraught with arguments and difficult conversations.', 'Unlike Elon Musk’s Neuralink or other brain stimulation devices that are designed to help people with disabilities, the Pilot has one core function: multitasking.', 'It also claims to enhance the attention span of its users.', 'Val and Julie have to consider whether they want their children Sophie and David to opt for this little-understood procedure.', 'The first part of the novel revolves around the anxieties of deciding whether or not you want your child to have an invasive procedure for the sake of keeping up with classmates.', 'It touches on the theme of accessibility as Sophie has epilepsy, leaving her unable to have a Pilot implanted.', 'The discussion of discrimination throughout the novel does well to address concerns that technology which could give some people an advantage might leave others behind.', 'The pace of the novel lends itself to character-building, with the first two parts spending time helping us understand each character’s motivations.', 'Pinsker gives us a glimpse inside the minds of the characters, showing us how little they communicate their innermost thoughts and how this affects their family.', 'The technology in We Are Satellites is similar to an existing brain implant meant to enhance memory.', 'Instead of enhancing memory, the Pilot works by stimulating the right temporoparietal junction in the brain, which is responsible for reorienting attention.', 'The focus of the novel isn’t how the technology works, however, but the implications it has for society.', 'The Pilot’s popularity leaves those who don’t have it – because they can’t afford it, they object to having wires in their brain or they have a disability – at a disadvantage.', 'No Pilot means less by way of job opportunities.', '“We can never really be sure about the full ramifications of having wires and electrodes in the brain”\\n\\nFar from being a doomy, dystopian novel about terrifying technology, We Are Satellites takes a balanced look at the pros and cons while maintaining healthy scepticism towards the medical technology sector.', 'Through David, we are shown we can never really be sure about the ramifications of having wires and electrodes stuck in the brain – and how hard it can be to communicate exactly what is going on in your own head.', 'Sophie’s involvement in the anti-Pilot movement becomes another source of turmoil for the family as she embarks on a mission to discover the truth about the technology – no matter what the cost.', 'The story increases in pace during its third part, with several incredibly captivating chapters packed with action and tension as we begin to understand Sophie’s mistrust of the Pilot.', 'We Are Satellites is a story about technology with family at its heart.', 'It’s not just about whether we trust scientists to stick things in our brain, or even what happens when technology goes wrong.', 'It’s about what brain-enhancing could do for us, who it would exclude and what happens when a family becomes tangled up within the debate.']\n"
          ]
        }
      ]
    },
    {
      "cell_type": "code",
      "metadata": {
        "id": "-KEShRlFAKCw"
      },
      "source": [
        "#GREETING FUNCTION\n",
        "def greeting_response(text):\n",
        "    text = text.lower()\n",
        "    \n",
        "    #Sapaan Bot\n",
        "    bot_greetings = ['halo','hai','selamat datang','ada yang bisa saya bantu?']\n",
        "    \n",
        "    #Sapaan pengguna\n",
        "    user_greetings = ['hai','halo','permisi','salam', 'wassup']\n",
        "    \n",
        "    for word in text.split():\n",
        "        if word in user_greetings:\n",
        "            return random.choice(bot_greetings)\n",
        "        \n",
        "    #Respon acak\n",
        "    def gratitude_response(text):\n",
        "        text=text.lower()"
      ],
      "execution_count": null,
      "outputs": []
    },
    {
      "cell_type": "code",
      "metadata": {
        "id": "jcHc_t4sCUF-"
      },
      "source": [
        " def index_sort(list_var):\n",
        "    length = len(list_var)\n",
        "    list_index = list(range(0, length))\n",
        "    \n",
        "    x = list_var        \n",
        "    for i in range(length):\n",
        "        for j in range(length):\n",
        "            if x[list_index[i]] > x[list_index[j]]:\n",
        "                #swap\n",
        "                temp = list_index[i]\n",
        "                list_index[i] = list_index[j]\n",
        "                list_index[j] = temp\n",
        "                \n",
        "    return list_index"
      ],
      "execution_count": null,
      "outputs": []
    },
    {
      "cell_type": "markdown",
      "metadata": {
        "id": "KU-n1CIjCnlv"
      },
      "source": [
        "## **MEMBUAT RESPON**"
      ]
    },
    {
      "cell_type": "code",
      "metadata": {
        "id": "DmEAvF8zCh4x"
      },
      "source": [
        "# Creat Bots Response\n",
        "def bot_response(user_input):\n",
        "    user_input=user_input.lower() #Merubah input dari user menjadi huruf kecil\n",
        "    sentence_list.append(user_input) #Memasukkan input user kedalam corpus yg kita punya (corpus disimpan dalam variabel sentence_list)\n",
        "    bot_response= '' #Inisialisasi variabel bot response\n",
        "\n",
        "    cm=CountVectorizer().fit_transform(sentence_list) #Melakukan ekstraksi fitur pada corpus yg kita punya menggunakan CountVectorizer (Bag of Word)\n",
        "\n",
        "    similarity_scores=cosine_similarity(cm[-1],cm) #Menghitung cosine similarity antara hasil fitur ekstraksi input user (cm[-1]) dengan semua data dalam corpus\n",
        "    similarity_scores_list=similarity_scores.flatten() #Merubah hasil perhitungan cosine similarity menjadi list 1D\n",
        "    index=index_sort(similarity_scores_list) #Melakukan sorting untuk index pada similarity score berdasarkan element yg terbesar, kemudian hasilnya disimpan pada list yg bernama index\n",
        "    index=index[1:] \n",
        "\n",
        "    response_flag=0 \n",
        "    for i in range(len(index)):\n",
        "        if similarity_scores_list[index[i]]>0.0:\n",
        "            bot_response=bot_response+' '+sentence_list[index[i]]\n",
        "            response_flag=1\n",
        "\n",
        "        if response_flag==0:\n",
        "            bot_response=bot_response+\" \"+\"I apologize, I dont understand\" #Jika respon_flag = 0 (tidak ada kata yg cocok) maka akan memberikan response  apologize, I dont understand.\n",
        "\n",
        "        sentence_list.remove(user_input) #Meremove user_input yg sudah dimasukkan kedalam sentence_list (Corpus yg kita punya).\n",
        "\n",
        "        return bot_response"
      ],
      "execution_count": null,
      "outputs": []
    },
    {
      "cell_type": "code",
      "metadata": {
        "colab": {
          "base_uri": "https://localhost:8080/"
        },
        "id": "0_PmyQ30Dofk",
        "outputId": "7e37cecf-9494-47e5-cede-c6d5c80e7d92"
      },
      "source": [
        "#Start Chat\n",
        "print(\"Doc Bot: Hello, what is your interest in  this topic ?\")\n",
        "\n",
        "exit_list=['none', 'i dont know', 'exit', 'bye']\n",
        "\n",
        "while(True):\n",
        "    user_input=input() #mengambil input pada user\n",
        "    if user_input.lower() in exit_list: #kalau input dari user ada didalam exit_list maka program akan berhenti\n",
        "        print('Doc Bot: Okay thanks for your question')\n",
        "        print('Doc Bot: Have a nice day..... \\^U^/')\n",
        "        break\n",
        "    else:\n",
        "        if greeting_response(user_input)!= None: #Mengecek apakah input dari user masuk kedalam greeting atau bukan\n",
        "            print('Doc Bot: '+ greeting_response(user_input)) #Jika masuk kedalam greeting maka bot akan melakukan response terhadap greeting tersebut\n",
        "        else:\n",
        "            print('Doc Bot: '+ bot_response(user_input)) #Jika bukan, maka bot akan memanggil fungsi bot_response untuk menentukan respon apa yg akan ia keluarkan sesuai dengan input dari user"
      ],
      "execution_count": null,
      "outputs": [
        {
          "output_type": "stream",
          "name": "stdout",
          "text": [
            "Doc Bot: Hello, what is your interest in  this topic ?\n",
            "brain implant\n",
            "Doc Bot:  The technology in We Are Satellites is similar to an existing brain implant meant to enhance memory.\n",
            "how it works\n",
            "Doc Bot:  The focus of the novel isn’t how the technology works, however, but the implications it has for society.\n",
            "explain\n",
            "Doc Bot:  I apologize, I dont understand\n",
            "what is help for\n",
            "Doc Bot:  It’s about what brain-enhancing could do for us, who it would exclude and what happens when a family becomes tangled up within the debate.\n",
            "exit\n",
            "Doc Bot: Okay thanks for your question\n",
            "Doc Bot: Have a nice day..... \\^U^/\n"
          ]
        }
      ]
    },
    {
      "cell_type": "code",
      "metadata": {
        "id": "fEvWGFUzEyOo"
      },
      "source": [
        ""
      ],
      "execution_count": null,
      "outputs": []
    }
  ]
}