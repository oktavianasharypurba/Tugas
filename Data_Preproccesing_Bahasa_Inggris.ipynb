{
  "nbformat": 4,
  "nbformat_minor": 5,
  "metadata": {
    "kernelspec": {
      "display_name": "Python 3",
      "language": "python",
      "name": "python3"
    },
    "language_info": {
      "codemirror_mode": {
        "name": "ipython",
        "version": 3
      },
      "file_extension": ".py",
      "mimetype": "text/x-python",
      "name": "python",
      "nbconvert_exporter": "python",
      "pygments_lexer": "ipython3",
      "version": "3.8.8"
    },
    "colab": {
      "name": "Data_Preproccesing_Bahasa_Inggris.ipynb",
      "provenance": [],
      "collapsed_sections": [
        "wOYBUaO9W-in"
      ]
    }
  },
  "cells": [
    {
      "cell_type": "code",
      "metadata": {
        "id": "TmDcEBQ3qCOj"
      },
      "source": [
        "# NLTK, library NLP di bahasa pemrograman python\n",
        "import nltk\n",
        "\n",
        "# Regex (re), library untuk mengenali dan memanipulasi pola text\n",
        "import re\n",
        "\n",
        "from nltk.corpus import stopwords\n",
        "from nltk.stem import SnowballStemmer\n",
        "from nltk.stem import PorterStemmer\n",
        "from nltk.stem import LancasterStemmer\n",
        "from nltk.stem import WordNetLemmatizer\n",
        "from nltk import word_tokenize\n",
        "import requests\n",
        "from bs4 import BeautifulSoup\n",
        "import re"
      ],
      "id": "TmDcEBQ3qCOj",
      "execution_count": 7,
      "outputs": []
    },
    {
      "cell_type": "code",
      "metadata": {
        "colab": {
          "base_uri": "https://localhost:8080/"
        },
        "id": "9W5Kzmqtn4rV",
        "outputId": "9773261f-1a85-4098-e9d0-a703d3e74aa8"
      },
      "source": [
        "nltk.download('punkt')\n",
        "nltk.download('stopwords')\n",
        "nltk.download('wordnet')"
      ],
      "id": "9W5Kzmqtn4rV",
      "execution_count": 8,
      "outputs": [
        {
          "output_type": "stream",
          "name": "stdout",
          "text": [
            "[nltk_data] Downloading package punkt to /root/nltk_data...\n",
            "[nltk_data]   Package punkt is already up-to-date!\n",
            "[nltk_data] Downloading package stopwords to /root/nltk_data...\n",
            "[nltk_data]   Package stopwords is already up-to-date!\n",
            "[nltk_data] Downloading package wordnet to /root/nltk_data...\n",
            "[nltk_data]   Package wordnet is already up-to-date!\n"
          ]
        },
        {
          "output_type": "execute_result",
          "data": {
            "text/plain": [
              "True"
            ]
          },
          "metadata": {},
          "execution_count": 8
        }
      ]
    },
    {
      "cell_type": "code",
      "metadata": {
        "id": "v0VsnQuRfhZx",
        "colab": {
          "base_uri": "https://localhost:8080/",
          "height": 137
        },
        "outputId": "51a5495f-624e-4ca0-df5b-fa4da57fed82"
      },
      "source": [
        "### Web Scraping\n",
        "results = requests.get('https://webscraper.io/blog/web-scraper-collaboration')\n",
        "results.text"
      ],
      "id": "v0VsnQuRfhZx",
      "execution_count": 9,
      "outputs": [
        {
          "output_type": "execute_result",
          "data": {
            "application/vnd.google.colaboratory.intrinsic+json": {
              "type": "string"
            },
            "text/plain": [
              "'<!DOCTYPE html>\\n<html lang=\"en\">\\n<head>\\n\\n\\t\\t\\t<!-- Anti-flicker snippet (recommended)  -->\\n<style>.async-hide {\\n\\t\\topacity: 0 !important\\n\\t} </style>\\n<script>(function (a, s, y, n, c, h, i, d, e) {\\n\\t\\ts.className += \\' \\' + y;\\n\\t\\th.start = 1 * new Date;\\n\\t\\th.end = i = function () {\\n\\t\\t\\ts.className = s.className.replace(RegExp(\\' ?\\' + y), \\'\\')\\n\\t\\t};\\n\\t\\t(a[n] = a[n] || []).hide = h;\\n\\t\\tsetTimeout(function () {\\n\\t\\t\\ti();\\n\\t\\t\\th.end = null\\n\\t\\t}, c);\\n\\t\\th.timeout = c;\\n\\t})(window, document.documentElement, \\'async-hide\\', \\'dataLayer\\', 4000,\\n\\t\\t{\\'GTM-NVFPDWB\\': true});</script>\\n\\t\\n\\t<!-- Google Tag Manager -->\\n<script>(function (w, d, s, l, i) {\\n\\t\\tw[l] = w[l] || [];\\n\\t\\tw[l].push({\\n\\t\\t\\t\\'gtm.start\\':\\n\\t\\t\\t\\tnew Date().getTime(), event: \\'gtm.js\\'\\n\\t\\t});\\n\\t\\tvar f = d.getElementsByTagName(s)[0],\\n\\t\\t\\tj = d.createElement(s), dl = l != \\'dataLayer\\' ? \\'&l=\\' + l : \\'\\';\\n\\t\\tj.async = true;\\n\\t\\tj.src =\\n\\t\\t\\t\\'https://www.googletagmanager.com/gtm.js?id=\\' + i + dl;\\n\\t\\tf.parentNode.insertBefore(j, f);\\n\\t})(window, document, \\'script\\', \\'dataLayer\\', \\'GTM-NVFPDWB\\');</script>\\n<!-- End Google Tag Manager -->\\n\\t<title>In Need of Data?</title>\\n\\t<meta charset=\"utf-8\">\\n\\t<meta http-equiv=\"X-UA-Compatible\" content=\"IE=edge,chrome=1\">\\n\\n\\t<meta name=\"keywords\"\\n\\t      content=\"Data, collaboration\"/>\\n\\t<meta name=\"description\"\\n\\t      content=\"Do you have a great idea for a project, article, or research, but you are in need of data for the perfect execution? Look no further, we are offering an offer of collaboration.\"/>\\n\\t<link rel=\"icon\" sizes=\"128x128\" href=\"/favicon.png\">\\n\\n\\t<meta name=\"viewport\" content=\"width=device-width, initial-scale=1.0\">\\n\\t\\n\\t<link rel=\"stylesheet\" href=\"/css/app.css?id=e4de8db16b64e604046e\">\\n\\n\\t<link rel=\"canonical\" href=\"https://webscraper.io/blog/web-scraper-collaboration\">\\n\\t<link rel=\"apple-touch-icon\" href=\"/img/logo-icon.png\">\\n\\n\\t\\t<script defer src=\"/js/app.js?id=e64f07a3ce1d466cf04c\"></script>\\n\\n\\t\\t\\t\\t<meta property=\"og:title\" content=\"In Need of Data?\"/>\\n\\t\\n\\t\\t\\t<meta property=\"og:description\" content=\"Do you have a great idea for a project, article, or research, but you are in need of data for the perfect execution? Look no further, we are offering an offer of collaboration.\"/>\\n\\t\\n\\t\\t\\t<meta property=\"og:image\" content=\"https://blog-images.webscraper.io/images/JXmXV5Q1EpDJSk5yDuOMJ6jCHFewKEjRQReK9dgO.png\"/>\\n\\t\\n\\t<meta name=\"twitter:card\" content=\"summary\"/>\\n\\n\\t\\t\\t<meta name=\"twitter:title\" content=\"In Need of Data?\"/>\\n\\t\\n\\t\\t\\t<meta name=\"twitter:description\" content=\"Do you have a great idea for a project, article, or research, but you are in need of data for the perfect execution? Look no further, we are offering an offer of collaboration.\"/>\\n\\t\\n</head>\\n<body>\\n<!-- Google Tag Manager (noscript) -->\\n<noscript>\\n\\t<iframe src=\"https://www.googletagmanager.com/ns.html?id=GTM-NVFPDWB\"\\n\\t        height=\"0\" width=\"0\" style=\"display:none;visibility:hidden\"></iframe>\\n</noscript>\\n<!-- End Google Tag Manager (noscript) -->\\n<header role=\"banner\" class=\"navbar navbar-fixed-top navbar-static\">\\n\\t<div class=\"container\">\\n\\n\\t\\t<div class=\"navbar-header\">\\n\\n\\t\\t\\t<a data-toggle=\"collapse-side\" data-target=\".side-collapse\" data-target-2=\".side-collapse-container\">\\n\\t\\t\\t\\t<button type=\"button\" class=\"navbar-toggle pull-right collapsed\" data-toggle=\"collapse\"\\n\\t\\t\\t\\t        data-target=\"#navbar\" data-target-2=\".side-collapse-container\" data-target-3=\".side-collapse\"\\n\\t\\t\\t\\t        aria-expanded=\"false\" aria-controls=\"navbar\">\\n\\n\\t\\t\\t\\t\\t<span class=\"sr-only\">Toggle navigation</span>\\n\\t\\t\\t\\t\\t<span class=\"icon-bar top-bar\"></span>\\n\\t\\t\\t\\t\\t<span class=\"icon-bar middle-bar\"></span>\\n\\t\\t\\t\\t\\t<span class=\"icon-bar bottom-bar\"></span>\\n\\n\\t\\t\\t\\t</button>\\n\\t\\t\\t</a>\\n\\t\\t\\t<div class=\"navbar-brand\">\\n\\t\\t\\t\\t<a href=\"/\"><img src=\"/img/logo_white.svg\" alt=\"Web Scraper\"></a>\\n\\t\\t\\t</div>\\n\\t\\t</div>\\n\\n\\t\\t<div class=\"side-collapse in\">\\n\\t\\t\\t<nav id=\"navbar\" role=\"navigation\" class=\"navbar-collapse collapse\">\\n\\t\\t\\t\\t<ul class=\"nav navbar-nav navbar-right\">\\n\\t\\t\\t\\t\\t<li class=\"hidden\">\\n\\t\\t\\t\\t\\t\\t<a href=\"#page-top\"></a>\\n\\t\\t\\t\\t\\t</li>\\n\\t\\t\\t\\t\\t\\n\\t\\t\\t\\t\\t\\n\\t\\t\\t\\t\\t\\n\\t\\t\\t\\t\\t\\n\\t\\t\\t\\t\\t\\n\\t\\t\\t\\t\\t\\n\\t\\t\\t\\t\\t\\n\\t\\t\\t\\t\\t<li>\\n\\t\\t\\t\\t\\t\\t<a href=\"/\" class=\"menuitm\">\\n\\t\\t\\t\\t\\t\\t\\t<p>Web Scraper</p>\\n\\t\\t\\t\\t\\t\\t\\t<div class=\"crta\"></div>\\n\\t\\t\\t\\t\\t\\t</a>\\n\\t\\t\\t\\t\\t</li>\\n\\t\\t\\t\\t\\t<li>\\n\\t\\t\\t\\t\\t\\t<a href=\"/cloud-scraper\" class=\"menuitm\">\\n\\t\\t\\t\\t\\t\\t\\t<p>Cloud Scraper</p>\\n\\t\\t\\t\\t\\t\\t\\t<div class=\"crta\"></div>\\n\\t\\t\\t\\t\\t\\t</a>\\n\\t\\t\\t\\t\\t</li>\\n\\t\\t\\t\\t\\t<li>\\n\\t\\t\\t\\t\\t\\t<a href=\"/pricing\" class=\"menuitm\">\\n\\t\\t\\t\\t\\t\\t\\t<p>Pricing</p>\\n\\t\\t\\t\\t\\t\\t\\t<div class=\"crta\"></div>\\n\\t\\t\\t\\t\\t\\t</a>\\n\\t\\t\\t\\t\\t</li>\\n\\t\\t\\t\\t\\t\\n\\t\\t\\t\\t\\t\\n\\t\\t\\t\\t\\t\\n\\t\\t\\t\\t\\t\\n\\t\\t\\t\\t\\t\\n\\t\\t\\t\\t\\t\\n\\t\\t\\t\\t\\t\\n\\t\\t\\t\\t\\t\\n\\t\\t\\t\\t\\t\\n\\t\\t\\t\\t\\t\\n\\t\\t\\t\\t\\t<li class=\"dropdown\">\\n\\t\\t\\t\\t\\t\\t<a href=\"#section3\" class=\"menuitm dropdown-toggle\" data-toggle=\"dropdown\">\\n\\t\\t\\t\\t\\t\\t\\t<p>Learn</p>\\n\\t\\t\\t\\t\\t\\t\\t<div class=\"crta\"></div>\\n\\t\\t\\t\\t\\t\\t</a>\\n\\t\\t\\t\\t\\t\\t<ul class=\"dropdown-menu\">\\n\\t\\t\\t\\t\\t\\t\\t<li>\\n\\t\\t\\t\\t\\t\\t\\t\\t<a href=\"/documentation\">Documentation</a>\\n\\t\\t\\t\\t\\t\\t\\t</li>\\n\\t\\t\\t\\t\\t\\t\\t<li>\\n\\t\\t\\t\\t\\t\\t\\t\\t<a href=\"/tutorials\">Video Tutorials</a>\\n\\t\\t\\t\\t\\t\\t\\t</li>\\n\\t\\t\\t\\t\\t\\t\\t<li>\\n\\t\\t\\t\\t\\t\\t\\t\\t<a href=\"/how-to-videos\">How to</a>\\n\\t\\t\\t\\t\\t\\t\\t</li>\\n\\t\\t\\t\\t\\t\\t\\t<li>\\n\\t\\t\\t\\t\\t\\t\\t\\t<a href=\"/test-sites\">Test Sites</a>\\n\\t\\t\\t\\t\\t\\t\\t</li>\\n\\t\\t\\t\\t\\t\\t\\t<li>\\n\\t\\t\\t\\t\\t\\t\\t\\t<a href=\"https://forum.webscraper.io/\" target=\"_blank\" rel=\"noopener\">Forum</a>\\n\\t\\t\\t\\t\\t\\t\\t</li>\\n\\t\\t\\t\\t\\t\\t</ul>\\n\\t\\t\\t\\t\\t</li>\\n\\t\\t\\t\\t\\t<li>\\n\\t\\t\\t\\t\\t\\t<a target=\"_blank\" href=\"https://chrome.google.com/webstore/detail/web-scraper/jnhgnonknehpejjnehehllkliplmbmhn?hl=en\" class=\"btn-menu1 install-extension\" rel=\"noopener\">Install</a>\\n\\t\\t\\t\\t\\t</li>\\n\\t\\t\\t\\t\\t<li>\\n\\t\\t\\t\\t\\t\\t<a href=\"https://cloud.webscraper.io/\" class=\"btn-menu2\">Login</a>\\n\\t\\t\\t\\t\\t</li>\\n\\t\\t\\t\\t</ul>\\n\\t\\t\\t</nav>\\n\\t\\t</div>\\n\\t</div>\\n</header>\\n\\n<div class=\"wrapper\">\\n\\t\\t<div class=\"formenu-here container-fluid\">\\n\\n\\t</div>\\n\\n\\t\\t<div class=\"container-fluid blog-page\">\\n\\t\\t<div class=\"container blog-content-container\">\\n\\t\\t\\t<div class=\"row\">\\n\\t\\t\\t\\t<div class=\"col-md-12\">\\n\\t\\t\\t\\t\\t<div class=\"bloginside\" itemscope itemtype=\"https://schema.org/Blog\">\\n\\t\\t\\t\\t\\t\\t<h1 itemprop=\"headline\">In Need of Data?</h1>\\n\\t\\t\\t\\t\\t\\t<p class=\"date\" itemprop=\"datePublished\">June 05, 2020</p>\\n\\t\\t\\t\\t\\t\\t<p class=\"category\" itemprop=\"keywords\">Data, collaboration</p>\\n\\n\\t\\t\\t\\t\\t\\t<ul class=\"share-buttons\">\\n\\t<li class=\"share-on-social facebook\">\\n\\t\\t<a class=\"share-button\" id=\"fbShareBtn\">\\n\\t\\t\\t<i class=\"fa fa-facebook\"></i>\\n\\t\\t</a>\\n\\t\\t<script>\\n\\t\\t\\tdocument.getElementById(\\'fbShareBtn\\').onclick = function () {\\n\\t\\t\\t\\twindow.open(\"https://www.facebook.com/sharer/sharer.php?u=\" + window.location.href, \"pop\", \"width=800, height=600, scrollbars=no\");\\n\\t\\t\\t};\\n\\t\\t</script>\\n\\t</li>\\n\\n\\t<li class=\"share-on-social twitter\">\\n\\t\\t<a class=\"share-button\" id=\"twitterShareBtn\">\\n\\t\\t\\t<i class=\"fa fa-twitter\"></i>\\n\\t\\t</a>\\n\\t\\t<script>\\n\\t\\t\\tdocument.getElementById(\\'twitterShareBtn\\').onclick = function () {\\n\\t\\t\\t\\twindow.open(\"https://twitter.com/intent/tweet?url=\" + encodeURIComponent(window.location.href), \"pop\", \"width=800, height=600, scrollbars=no\");\\n\\t\\t\\t};\\n\\t\\t</script>\\n\\t</li>\\n\\n\\t<li class=\"share-on-social linkedin\">\\n\\t\\t<a class=\"share-button\" id=\"linkedinShareBtn\">\\n\\t\\t\\t<i class=\"fa fa-linkedin\"></i>\\n\\t\\t</a>\\n\\t\\t<script>\\n\\t\\t\\tdocument.getElementById(\\'linkedinShareBtn\\').onclick = function () {\\n\\t\\t\\t\\twindow.open(\"https://www.linkedin.com/shareArticle?mini=true&url=\" + window.location.href, \"pop\", \"width=800, height=600, scrollbars=no\");\\n\\t\\t\\t};\\n\\t\\t</script>\\n\\t</li>\\n\\n\\t<li class=\"share-on-social reddit\">\\n\\t\\t<a class=\"share-button\" id=\"redditShareBtn\">\\n\\t\\t\\t<i class=\"fa fa-reddit\"></i>\\n\\t\\t</a>\\n\\t\\t<script>\\n\\t\\t\\tdocument.getElementById(\\'redditShareBtn\\').onclick = function () {\\n\\t\\t\\t\\twindow.open(\"http://www.reddit.com/submit?url=\" + window.location.href, \"pop\", \"width=800, height=600, scrollbars=no\");\\n\\t\\t\\t};\\n\\t\\t</script>\\n\\t</li>\\n\\n\\t<li class=\"share-on-social whatsapp\">\\n\\t\\t<a class=\"share-button\" id=\"whatsappShareBtn\">\\n\\t\\t\\t<i class=\"fa fa-whatsapp\"></i>\\n\\t\\t</a>\\n\\t\\t<script>\\n\\t\\t\\tdocument.getElementById(\\'whatsappShareBtn\\').onclick = function () {\\n\\t\\t\\t\\twindow.open(\"https://wa.me/?text=\" + encodeURIComponent(window.location.href), \"pop\", \"width=800, height=600, scrollbars=no\");\\n\\t\\t\\t};\\n\\t\\t</script>\\n\\t</li>\\n\\n\\t<li class=\"share-on-social telegram\">\\n\\t\\t<a class=\"share-button\" id=\"telegramShareBtn\">\\n\\t\\t\\t<i class=\"fa fa-send\"></i>\\n\\t\\t</a>\\n\\t\\t<script>\\n\\t\\t\\tdocument.getElementById(\\'telegramShareBtn\\').onclick = function () {\\n\\t\\t\\t\\twindow.open(\"https://t.me/share/url?url=\" + encodeURIComponent(window.location.href), \"pop\", \"width=800, height=600, scrollbars=no\");\\n\\t\\t\\t};\\n\\t\\t</script>\\n\\t</li>\\n</ul>\\n\\n\\t\\t\\t\\t\\t\\t<div class=\"image-container\">\\n\\t\\t\\t\\t\\t\\t\\t<img class=\"img-responsive\" src=\"https://blog-images.webscraper.io/images/JXmXV5Q1EpDJSk5yDuOMJ6jCHFewKEjRQReK9dgO.png\" itemprop=\"image\" alt=Web-Scraper-Collaboration-Blog>\\n\\t\\t\\t\\t\\t\\t</div>\\n\\n\\t\\t\\t\\t\\t\\t<div itemprop=\"text\">\\n\\t\\t\\t\\t\\t\\t\\t<p>If you are a journalist or a data enthusiast and you are in need of data, look no further. We, Web Scraper, offer a collaboration.</p><hr><p>We are starting a new blog mini-series in which we would look at the data retrieval technical aspect and brief analysis of the results. If any journalists or data enthusiasts lack a technical solution for data extraction, then our expertise could be a great solution for you.</p><p>The terms are quite straightforward - you approach us with your idea and possible data sources that you need to extract information from, and we will do the scraping for you; therefore, making data retrieval no obstacle for your project, research, article. In return, we take this opportunity of scraping the data and write our own blog about how the data was retrieved and include our own interpretation of the results of the data.&nbsp;</p><p>All you have to do is send in a short description of your idea and the possible data sources at info@webscraper.io, we will review it, and if the idea will seem possible we will respond with an idea-execution-plan for gathering the data for you.&nbsp;</p><p>Do not hesitate to contact us and let’s collab!</p>\\n\\t\\t\\t\\t\\t\\t</div>\\n\\n\\t\\t\\t\\t\\t\\t<div class=\"crta\"></div>\\n\\n\\t\\t\\t\\t\\t\\t<a class=\"linkforback\" href=\"/blog\"><i class=\"fa fa-angle-left\"></i> Go\\n\\t\\t\\t\\t\\t\\t\\tback to blog page</a>\\n\\t\\t\\t\\t\\t</div>\\n\\t\\t\\t\\t</div>\\n\\t\\t\\t\\t\\n\\t\\t\\t</div>\\n\\t\\t</div>\\n\\t</div>\\n\\t<div class=\"clearfix\"></div>\\n\\t<div class=\"push\"></div>\\n</div>\\n\\n<div class=\"container-fluid footer\" id=\"layout-footer\">\\n\\t<div class=\"container\">\\n\\t\\t<div class=\"row\">\\n\\t\\t\\t<div class=\"col-md-3\">\\n\\t\\t\\t\\t<ul>\\n\\t\\t\\t\\t\\t<li><p>Products</p></li>\\n\\t\\t\\t\\t\\t<li>\\n\\t\\t\\t\\t\\t\\t<a href=\"/\">Web Scraper browser extension</a>\\n\\t\\t\\t\\t\\t</li>\\n\\t\\t\\t\\t\\t<li>\\n\\t\\t\\t\\t\\t\\t<a href=\"/pricing\">Web Scraper Cloud</a>\\n\\t\\t\\t\\t\\t</li>\\n\\t\\t\\t\\t\\t\\t\\t\\t\\t\\t\\n\\t\\t\\t\\t\\t\\n\\t\\t\\t\\t</ul>\\n\\t\\t\\t</div>\\n\\t\\t\\t<div class=\"col-md-3\">\\n\\t\\t\\t\\t<ul>\\n\\t\\t\\t\\t\\t<li><p>Company</p></li>\\n\\t\\t\\t\\t\\t\\n\\t\\t\\t\\t\\t<li><a href=\"/contact\">Contact</a>\\n\\t\\t\\t\\t\\t</li>\\n\\t\\t\\t\\t\\t\\n\\t\\t\\t\\t\\t<li>\\n\\t\\t\\t\\t\\t\\t<a href=\"/privacy-policy\">Website Privacy Policy</a>\\n\\t\\t\\t\\t\\t</li>\\n\\t\\t\\t\\t\\t<li>\\n\\t\\t\\t\\t\\t\\t<a href=\"/extension-privacy-policy\">Browser Extension Privacy Policy</a>\\n\\t\\t\\t\\t\\t</li>\\n\\t\\t\\t\\t\\t<li>\\n\\t\\t\\t\\t\\t\\t<a href=\"http://webscraperio.us-east-1.elasticbeanstalk.com/downloads/Web_Scraper_Media_Kit.zip\">Media kit</a>\\n\\t\\t\\t\\t\\t</li>\\n\\t\\t\\t\\t\\t\\n\\t\\t\\t\\t\\t<li><a href=\"/jobs\">Jobs</a></li>\\n\\t\\t\\t\\t</ul>\\n\\t\\t\\t</div>\\n\\t\\t\\t<div class=\"col-md-3\">\\n\\t\\t\\t\\t<ul>\\n\\t\\t\\t\\t\\t<li><p>Resources</p></li>\\n\\t\\t\\t\\t\\t<li><a href=\"/blog\">Blog</a></li>\\n\\t\\t\\t\\t\\t<li>\\n\\t\\t\\t\\t\\t\\t<a href=\"/documentation\">Documentation</a>\\n\\t\\t\\t\\t\\t</li>\\n\\t\\t\\t\\t\\t<li>\\n\\t\\t\\t\\t\\t\\t<a href=\"/tutorials\">Video Tutorials</a>\\n\\t\\t\\t\\t\\t</li>\\n\\t\\t\\t\\t\\t<li>\\n\\t\\t\\t\\t\\t\\t<a href=\"/screenshots\">Screenshots</a>\\n\\t\\t\\t\\t\\t</li>\\n\\t\\t\\t\\t\\t<li>\\n\\t\\t\\t\\t\\t\\t<a href=\"/test-sites\">Test Sites</a>\\n\\t\\t\\t\\t\\t</li>\\n\\t\\t\\t\\t\\t<li>\\n\\t\\t\\t\\t\\t\\t<a target=\"_blank\" href=\"https://forum.webscraper.io/\" rel=\"noopener\">Forum</a>\\n\\t\\t\\t\\t\\t</li>\\n\\t\\t\\t\\t</ul>\\n\\t\\t\\t</div>\\n\\t\\t\\t<div class=\"col-md-3\">\\n\\t\\t\\t\\t<ul>\\n\\t\\t\\t\\t\\t<li><p>CONTACT US</p></li>\\n\\t\\t\\t\\t\\t<li>\\n\\t\\t\\t\\t\\t\\t<a href=\"mailto:info@webscraper.io\">info@webscraper.io</a>\\n\\t\\t\\t\\t\\t</li>\\n\\t\\t\\t\\t\\t\\n\\t\\t\\t\\t\\t<li>Rupniecibas iela 30,<br> Riga, Latvia, LV-1045</li>\\n\\t\\t\\t\\t</ul>\\n\\t\\t\\t\\t<ul class=\"smedia\">\\n\\t\\t\\t\\t\\t<li>\\n\\t\\t\\t\\t\\t\\t<a href=\"https://www.facebook.com/webscraperio/\" target=\"_blank\" rel=\"noopener\"><img src=\"/img/fbicon.png\" alt=\"Web Scraper on Facebook\"></a>\\n\\t\\t\\t\\t\\t</li>\\n\\t\\t\\t\\t\\t<li>\\n\\t\\t\\t\\t\\t\\t<a href=\"https://twitter.com/webscraperio\" target=\"_blank\" rel=\"noopener\"><img src=\"/img/twicon.png\" alt=\"Web Scraper on Twitter\"></a>\\n\\t\\t\\t\\t\\t</li>\\n\\t\\t\\t\\t\\t\\n\\n\\t\\t\\t\\t</ul>\\n\\t\\t\\t</div>\\n\\t\\t</div>\\n\\t\\t<div class=\"row\">\\n\\t\\t\\t<div class=\"col-md-12\">\\n\\t\\t\\t\\t<p class=\"copyright\">Copyright &copy 2021\\n\\t\\t\\t\\t\\t<a href=\"#\">Web Scraper</a> | All rights\\n\\t\\t\\t\\t\\treserved | Made by zoom59</p>\\n\\t\\t\\t</div>\\n\\t\\t</div>\\n\\t</div>\\n</div>\\n\\n\\n</body>\\n</html>\\n'"
            ]
          },
          "metadata": {},
          "execution_count": 9
        }
      ]
    },
    {
      "cell_type": "code",
      "metadata": {
        "colab": {
          "base_uri": "https://localhost:8080/",
          "height": 35
        },
        "id": "_KlZA05phi6W",
        "outputId": "15473dfa-b124-4a1c-af7f-f4bc517a834d"
      },
      "source": [
        "### Encoding\n",
        "results.encoding = results.apparent_encoding \n",
        "results.encoding "
      ],
      "id": "_KlZA05phi6W",
      "execution_count": 10,
      "outputs": [
        {
          "output_type": "execute_result",
          "data": {
            "application/vnd.google.colaboratory.intrinsic+json": {
              "type": "string"
            },
            "text/plain": [
              "'Windows-1252'"
            ]
          },
          "metadata": {},
          "execution_count": 10
        }
      ]
    },
    {
      "cell_type": "code",
      "metadata": {
        "id": "wicRLrIohoE0"
      },
      "source": [
        "### Parsing\n",
        "WP = BeautifulSoup(results.text, 'html.parser') "
      ],
      "id": "wicRLrIohoE0",
      "execution_count": 11,
      "outputs": []
    },
    {
      "cell_type": "code",
      "metadata": {
        "colab": {
          "base_uri": "https://localhost:8080/"
        },
        "id": "9S0jj5lUh1rK",
        "outputId": "13276e84-1287-451a-c6ac-0f15785c541e"
      },
      "source": [
        "### Mencari dari halaman web\n",
        "WP.find('p')"
      ],
      "id": "9S0jj5lUh1rK",
      "execution_count": 12,
      "outputs": [
        {
          "output_type": "execute_result",
          "data": {
            "text/plain": [
              "<p>Web Scraper</p>"
            ]
          },
          "metadata": {},
          "execution_count": 12
        }
      ]
    },
    {
      "cell_type": "code",
      "metadata": {
        "colab": {
          "base_uri": "https://localhost:8080/",
          "height": 35
        },
        "id": "tKz2pfsviAuq",
        "outputId": "56d88568-a85c-4f32-fa99-cd573dc366b9"
      },
      "source": [
        "### Mengambil dari halaman Web \n",
        "WP.find('p').getText()"
      ],
      "id": "tKz2pfsviAuq",
      "execution_count": 13,
      "outputs": [
        {
          "output_type": "execute_result",
          "data": {
            "application/vnd.google.colaboratory.intrinsic+json": {
              "type": "string"
            },
            "text/plain": [
              "'Web Scraper'"
            ]
          },
          "metadata": {},
          "execution_count": 13
        }
      ]
    },
    {
      "cell_type": "code",
      "metadata": {
        "colab": {
          "base_uri": "https://localhost:8080/"
        },
        "id": "UXH2OdZciEa6",
        "outputId": "47f11244-627a-43f1-9eb9-eb2c4317697d"
      },
      "source": [
        "### Mengambil semua text dari halaman web \n",
        "WP.find_all('p')"
      ],
      "id": "UXH2OdZciEa6",
      "execution_count": 14,
      "outputs": [
        {
          "output_type": "execute_result",
          "data": {
            "text/plain": [
              "[<p>Web Scraper</p>,\n",
              " <p>Cloud Scraper</p>,\n",
              " <p>Pricing</p>,\n",
              " <p>Learn</p>,\n",
              " <p class=\"date\" itemprop=\"datePublished\">June 05, 2020</p>,\n",
              " <p class=\"category\" itemprop=\"keywords\">Data, collaboration</p>,\n",
              " <p>If you are a journalist or a data enthusiast and you are in need of data, look no further. We, Web Scraper, offer a collaboration.</p>,\n",
              " <p>We are starting a new blog mini-series in which we would look at the data retrieval technical aspect and brief analysis of the results. If any journalists or data enthusiasts lack a technical solution for data extraction, then our expertise could be a great solution for you.</p>,\n",
              " <p>The terms are quite straightforward - you approach us with your idea and possible data sources that you need to extract information from, and we will do the scraping for you; therefore, making data retrieval no obstacle for your project, research, article. In return, we take this opportunity of scraping the data and write our own blog about how the data was retrieved and include our own interpretation of the results of the data. </p>,\n",
              " <p>All you have to do is send in a short description of your idea and the possible data sources at info@webscraper.io, we will review it, and if the idea will seem possible we will respond with an idea-execution-plan for gathering the data for you. </p>,\n",
              " <p>Do not hesitate to contact us and letâ€™s collab!</p>,\n",
              " <p>Products</p>,\n",
              " <p>Company</p>,\n",
              " <p>Resources</p>,\n",
              " <p>CONTACT US</p>,\n",
              " <p class=\"copyright\">Copyright © 2021\n",
              " \t\t\t\t\t<a href=\"#\">Web Scraper</a> | All rights\n",
              " \t\t\t\t\treserved | Made by zoom59</p>]"
            ]
          },
          "metadata": {},
          "execution_count": 14
        }
      ]
    },
    {
      "cell_type": "code",
      "metadata": {
        "colab": {
          "base_uri": "https://localhost:8080/"
        },
        "id": "UvT3ieERiK0m",
        "outputId": "481bc86b-3a8c-4d23-b52e-3d55627520eb"
      },
      "source": [
        "### Memasukan hasil dari web kedalam List\n",
        "\n",
        "Full_Text = []\n",
        "for paragraf in WP.find_all('p'):\n",
        "  Full_Text.append(paragraf.getText())\n",
        "\n",
        "Full_Text"
      ],
      "id": "UvT3ieERiK0m",
      "execution_count": 15,
      "outputs": [
        {
          "output_type": "execute_result",
          "data": {
            "text/plain": [
              "['Web Scraper',\n",
              " 'Cloud Scraper',\n",
              " 'Pricing',\n",
              " 'Learn',\n",
              " 'June 05, 2020',\n",
              " 'Data, collaboration',\n",
              " 'If you are a journalist or a data enthusiast and you are in need of data, look no further. We, Web Scraper, offer a collaboration.',\n",
              " 'We are starting a new blog mini-series in which we would look at the data retrieval technical aspect and brief analysis of the results. If any journalists or data enthusiasts lack a technical solution for data extraction, then our expertise could be a great solution for you.',\n",
              " 'The terms are quite straightforward - you approach us with your idea and possible data sources that you need to extract information from, and we will do the scraping for you; therefore, making data retrieval no obstacle for your project, research, article. In return, we take this opportunity of scraping the data and write our own blog about how the data was retrieved and include our own interpretation of the results of the data.\\xa0',\n",
              " 'All you have to do is send in a short description of your idea and the possible data sources at info@webscraper.io, we will review it, and if the idea will seem possible we will respond with an idea-execution-plan for gathering the data for you.\\xa0',\n",
              " 'Do not hesitate to contact us and letâ€™s collab!',\n",
              " 'Products',\n",
              " 'Company',\n",
              " 'Resources',\n",
              " 'CONTACT US',\n",
              " 'Copyright © 2021\\n\\t\\t\\t\\t\\tWeb Scraper | All rights\\n\\t\\t\\t\\t\\treserved | Made by zoom59']"
            ]
          },
          "metadata": {},
          "execution_count": 15
        }
      ]
    },
    {
      "cell_type": "code",
      "metadata": {
        "colab": {
          "base_uri": "https://localhost:8080/"
        },
        "id": "zIL7V1BHiPGF",
        "outputId": "697d3999-503f-4fa1-8dbd-b205b2fcd765"
      },
      "source": [
        "### Menghilangkan White Space\n",
        "\n",
        "Full_Text = [paragraf.strip() for paragraf in Full_Text if paragraf !=''] \n",
        "Full_Text"
      ],
      "id": "zIL7V1BHiPGF",
      "execution_count": 16,
      "outputs": [
        {
          "output_type": "execute_result",
          "data": {
            "text/plain": [
              "['Web Scraper',\n",
              " 'Cloud Scraper',\n",
              " 'Pricing',\n",
              " 'Learn',\n",
              " 'June 05, 2020',\n",
              " 'Data, collaboration',\n",
              " 'If you are a journalist or a data enthusiast and you are in need of data, look no further. We, Web Scraper, offer a collaboration.',\n",
              " 'We are starting a new blog mini-series in which we would look at the data retrieval technical aspect and brief analysis of the results. If any journalists or data enthusiasts lack a technical solution for data extraction, then our expertise could be a great solution for you.',\n",
              " 'The terms are quite straightforward - you approach us with your idea and possible data sources that you need to extract information from, and we will do the scraping for you; therefore, making data retrieval no obstacle for your project, research, article. In return, we take this opportunity of scraping the data and write our own blog about how the data was retrieved and include our own interpretation of the results of the data.',\n",
              " 'All you have to do is send in a short description of your idea and the possible data sources at info@webscraper.io, we will review it, and if the idea will seem possible we will respond with an idea-execution-plan for gathering the data for you.',\n",
              " 'Do not hesitate to contact us and letâ€™s collab!',\n",
              " 'Products',\n",
              " 'Company',\n",
              " 'Resources',\n",
              " 'CONTACT US',\n",
              " 'Copyright © 2021\\n\\t\\t\\t\\t\\tWeb Scraper | All rights\\n\\t\\t\\t\\t\\treserved | Made by zoom59']"
            ]
          },
          "metadata": {},
          "execution_count": 16
        }
      ]
    },
    {
      "cell_type": "code",
      "metadata": {
        "colab": {
          "base_uri": "https://localhost:8080/",
          "height": 137
        },
        "id": "Sy3hxdXXiXGP",
        "outputId": "f45ba448-c77c-48da-bca6-a3680b113ad9"
      },
      "source": [
        "### Menggabungkan Tiap Line\n",
        "\n",
        "Full_Text = ' '.join(Full_Text)\n",
        "Full_Text"
      ],
      "id": "Sy3hxdXXiXGP",
      "execution_count": 17,
      "outputs": [
        {
          "output_type": "execute_result",
          "data": {
            "application/vnd.google.colaboratory.intrinsic+json": {
              "type": "string"
            },
            "text/plain": [
              "'Web Scraper Cloud Scraper Pricing Learn June 05, 2020 Data, collaboration If you are a journalist or a data enthusiast and you are in need of data, look no further. We, Web Scraper, offer a collaboration. We are starting a new blog mini-series in which we would look at the data retrieval technical aspect and brief analysis of the results. If any journalists or data enthusiasts lack a technical solution for data extraction, then our expertise could be a great solution for you. The terms are quite straightforward - you approach us with your idea and possible data sources that you need to extract information from, and we will do the scraping for you; therefore, making data retrieval no obstacle for your project, research, article. In return, we take this opportunity of scraping the data and write our own blog about how the data was retrieved and include our own interpretation of the results of the data. All you have to do is send in a short description of your idea and the possible data sources at info@webscraper.io, we will review it, and if the idea will seem possible we will respond with an idea-execution-plan for gathering the data for you. Do not hesitate to contact us and letâ€™s collab! Products Company Resources CONTACT US Copyright © 2021\\n\\t\\t\\t\\t\\tWeb Scraper | All rights\\n\\t\\t\\t\\t\\treserved | Made by zoom59'"
            ]
          },
          "metadata": {},
          "execution_count": 17
        }
      ]
    },
    {
      "cell_type": "code",
      "metadata": {
        "id": "mkvKUgIKifhH"
      },
      "source": [
        "text = Full_Text "
      ],
      "id": "mkvKUgIKifhH",
      "execution_count": 18,
      "outputs": []
    },
    {
      "cell_type": "code",
      "metadata": {
        "colab": {
          "base_uri": "https://localhost:8080/",
          "height": 137
        },
        "id": "mqMpxs64ikNS",
        "outputId": "3d0b7fb0-74be-485b-f040-5578d4a3c5db"
      },
      "source": [
        "### lower text \n",
        "\n",
        "text = text.lower()\n",
        "text"
      ],
      "id": "mqMpxs64ikNS",
      "execution_count": 19,
      "outputs": [
        {
          "output_type": "execute_result",
          "data": {
            "application/vnd.google.colaboratory.intrinsic+json": {
              "type": "string"
            },
            "text/plain": [
              "'web scraper cloud scraper pricing learn june 05, 2020 data, collaboration if you are a journalist or a data enthusiast and you are in need of data, look no further. we, web scraper, offer a collaboration. we are starting a new blog mini-series in which we would look at the data retrieval technical aspect and brief analysis of the results. if any journalists or data enthusiasts lack a technical solution for data extraction, then our expertise could be a great solution for you. the terms are quite straightforward - you approach us with your idea and possible data sources that you need to extract information from, and we will do the scraping for you; therefore, making data retrieval no obstacle for your project, research, article. in return, we take this opportunity of scraping the data and write our own blog about how the data was retrieved and include our own interpretation of the results of the data. all you have to do is send in a short description of your idea and the possible data sources at info@webscraper.io, we will review it, and if the idea will seem possible we will respond with an idea-execution-plan for gathering the data for you. do not hesitate to contact us and letâ€™s collab! products company resources contact us copyright © 2021\\n\\t\\t\\t\\t\\tweb scraper | all rights\\n\\t\\t\\t\\t\\treserved | made by zoom59'"
            ]
          },
          "metadata": {},
          "execution_count": 19
        }
      ]
    },
    {
      "cell_type": "code",
      "metadata": {
        "colab": {
          "base_uri": "https://localhost:8080/",
          "height": 137
        },
        "id": "g9By_QKkiruZ",
        "outputId": "a4d54cad-ebd5-458f-9e2d-97b1a8218365"
      },
      "source": [
        "### menghilangkan simbol2 \n",
        "\n",
        "text = re.sub(r'[-()\\\"#/@;:<>{}+=|!?,]','', text)  \n",
        "text"
      ],
      "id": "g9By_QKkiruZ",
      "execution_count": 20,
      "outputs": [
        {
          "output_type": "execute_result",
          "data": {
            "application/vnd.google.colaboratory.intrinsic+json": {
              "type": "string"
            },
            "text/plain": [
              "'web scraper cloud scraper pricing learn june 05 2020 data collaboration if you are a journalist or a data enthusiast and you are in need of data look no further. we web scraper offer a collaboration. we are starting a new blog miniseries in which we would look at the data retrieval technical aspect and brief analysis of the results. if any journalists or data enthusiasts lack a technical solution for data extraction then our expertise could be a great solution for you. the terms are quite straightforward  you approach us with your idea and possible data sources that you need to extract information from and we will do the scraping for you therefore making data retrieval no obstacle for your project research article. in return we take this opportunity of scraping the data and write our own blog about how the data was retrieved and include our own interpretation of the results of the data. all you have to do is send in a short description of your idea and the possible data sources at infowebscraper.io we will review it and if the idea will seem possible we will respond with an ideaexecutionplan for gathering the data for you. do not hesitate to contact us and letâ€™s collab products company resources contact us copyright © 2021\\n\\t\\t\\t\\t\\tweb scraper  all rights\\n\\t\\t\\t\\t\\treserved  made by zoom59'"
            ]
          },
          "metadata": {},
          "execution_count": 20
        }
      ]
    },
    {
      "cell_type": "code",
      "metadata": {
        "colab": {
          "base_uri": "https://localhost:8080/"
        },
        "id": "vNykrhHYjBVD",
        "outputId": "9207b1cf-8114-4f92-892e-7f4d910a2a72"
      },
      "source": [
        "### Tokenizing \n",
        "\n",
        "token = word_tokenize(text) \n",
        "print(token)"
      ],
      "id": "vNykrhHYjBVD",
      "execution_count": 21,
      "outputs": [
        {
          "output_type": "stream",
          "name": "stdout",
          "text": [
            "['web', 'scraper', 'cloud', 'scraper', 'pricing', 'learn', 'june', '05', '2020', 'data', 'collaboration', 'if', 'you', 'are', 'a', 'journalist', 'or', 'a', 'data', 'enthusiast', 'and', 'you', 'are', 'in', 'need', 'of', 'data', 'look', 'no', 'further', '.', 'we', 'web', 'scraper', 'offer', 'a', 'collaboration', '.', 'we', 'are', 'starting', 'a', 'new', 'blog', 'miniseries', 'in', 'which', 'we', 'would', 'look', 'at', 'the', 'data', 'retrieval', 'technical', 'aspect', 'and', 'brief', 'analysis', 'of', 'the', 'results', '.', 'if', 'any', 'journalists', 'or', 'data', 'enthusiasts', 'lack', 'a', 'technical', 'solution', 'for', 'data', 'extraction', 'then', 'our', 'expertise', 'could', 'be', 'a', 'great', 'solution', 'for', 'you', '.', 'the', 'terms', 'are', 'quite', 'straightforward', 'you', 'approach', 'us', 'with', 'your', 'idea', 'and', 'possible', 'data', 'sources', 'that', 'you', 'need', 'to', 'extract', 'information', 'from', 'and', 'we', 'will', 'do', 'the', 'scraping', 'for', 'you', 'therefore', 'making', 'data', 'retrieval', 'no', 'obstacle', 'for', 'your', 'project', 'research', 'article', '.', 'in', 'return', 'we', 'take', 'this', 'opportunity', 'of', 'scraping', 'the', 'data', 'and', 'write', 'our', 'own', 'blog', 'about', 'how', 'the', 'data', 'was', 'retrieved', 'and', 'include', 'our', 'own', 'interpretation', 'of', 'the', 'results', 'of', 'the', 'data', '.', 'all', 'you', 'have', 'to', 'do', 'is', 'send', 'in', 'a', 'short', 'description', 'of', 'your', 'idea', 'and', 'the', 'possible', 'data', 'sources', 'at', 'infowebscraper.io', 'we', 'will', 'review', 'it', 'and', 'if', 'the', 'idea', 'will', 'seem', 'possible', 'we', 'will', 'respond', 'with', 'an', 'ideaexecutionplan', 'for', 'gathering', 'the', 'data', 'for', 'you', '.', 'do', 'not', 'hesitate', 'to', 'contact', 'us', 'and', 'letâ€™s', 'collab', 'products', 'company', 'resources', 'contact', 'us', 'copyright', '©', '2021', 'web', 'scraper', 'all', 'rights', 'reserved', 'made', 'by', 'zoom59']\n"
          ]
        }
      ]
    },
    {
      "cell_type": "code",
      "metadata": {
        "colab": {
          "base_uri": "https://localhost:8080/"
        },
        "id": "qlvXwB0Rg8oc",
        "outputId": "548bf139-1c25-4c49-e1db-251d294c76b7"
      },
      "source": [
        "#Bag of Words\n",
        "frekuensi_kata = {}\n",
        "for kata in token:\n",
        "  if kata not in frekuensi_kata : \n",
        "    frekuensi_kata[kata] = 1\n",
        "  else:\n",
        "    frekuensi_kata[kata] += 1\n",
        "\n",
        "frekuensi_kata"
      ],
      "id": "qlvXwB0Rg8oc",
      "execution_count": 22,
      "outputs": [
        {
          "output_type": "execute_result",
          "data": {
            "text/plain": [
              "{'.': 7,\n",
              " '05': 1,\n",
              " '2020': 1,\n",
              " '2021': 1,\n",
              " 'a': 7,\n",
              " 'about': 1,\n",
              " 'all': 2,\n",
              " 'an': 1,\n",
              " 'analysis': 1,\n",
              " 'and': 9,\n",
              " 'any': 1,\n",
              " 'approach': 1,\n",
              " 'are': 4,\n",
              " 'article': 1,\n",
              " 'aspect': 1,\n",
              " 'at': 2,\n",
              " 'be': 1,\n",
              " 'blog': 2,\n",
              " 'brief': 1,\n",
              " 'by': 1,\n",
              " 'cloud': 1,\n",
              " 'collab': 1,\n",
              " 'collaboration': 2,\n",
              " 'company': 1,\n",
              " 'contact': 2,\n",
              " 'copyright': 1,\n",
              " 'could': 1,\n",
              " 'data': 13,\n",
              " 'description': 1,\n",
              " 'do': 3,\n",
              " 'enthusiast': 1,\n",
              " 'enthusiasts': 1,\n",
              " 'expertise': 1,\n",
              " 'extract': 1,\n",
              " 'extraction': 1,\n",
              " 'for': 6,\n",
              " 'from': 1,\n",
              " 'further': 1,\n",
              " 'gathering': 1,\n",
              " 'great': 1,\n",
              " 'have': 1,\n",
              " 'hesitate': 1,\n",
              " 'how': 1,\n",
              " 'idea': 3,\n",
              " 'ideaexecutionplan': 1,\n",
              " 'if': 3,\n",
              " 'in': 4,\n",
              " 'include': 1,\n",
              " 'information': 1,\n",
              " 'infowebscraper.io': 1,\n",
              " 'interpretation': 1,\n",
              " 'is': 1,\n",
              " 'it': 1,\n",
              " 'journalist': 1,\n",
              " 'journalists': 1,\n",
              " 'june': 1,\n",
              " 'lack': 1,\n",
              " 'learn': 1,\n",
              " 'letâ€™s': 1,\n",
              " 'look': 2,\n",
              " 'made': 1,\n",
              " 'making': 1,\n",
              " 'miniseries': 1,\n",
              " 'need': 2,\n",
              " 'new': 1,\n",
              " 'no': 2,\n",
              " 'not': 1,\n",
              " 'obstacle': 1,\n",
              " 'of': 6,\n",
              " 'offer': 1,\n",
              " 'opportunity': 1,\n",
              " 'or': 2,\n",
              " 'our': 3,\n",
              " 'own': 2,\n",
              " 'possible': 3,\n",
              " 'pricing': 1,\n",
              " 'products': 1,\n",
              " 'project': 1,\n",
              " 'quite': 1,\n",
              " 'research': 1,\n",
              " 'reserved': 1,\n",
              " 'resources': 1,\n",
              " 'respond': 1,\n",
              " 'results': 2,\n",
              " 'retrieval': 2,\n",
              " 'retrieved': 1,\n",
              " 'return': 1,\n",
              " 'review': 1,\n",
              " 'rights': 1,\n",
              " 'scraper': 4,\n",
              " 'scraping': 2,\n",
              " 'seem': 1,\n",
              " 'send': 1,\n",
              " 'short': 1,\n",
              " 'solution': 2,\n",
              " 'sources': 2,\n",
              " 'starting': 1,\n",
              " 'straightforward': 1,\n",
              " 'take': 1,\n",
              " 'technical': 2,\n",
              " 'terms': 1,\n",
              " 'that': 1,\n",
              " 'the': 11,\n",
              " 'then': 1,\n",
              " 'therefore': 1,\n",
              " 'this': 1,\n",
              " 'to': 3,\n",
              " 'us': 3,\n",
              " 'was': 1,\n",
              " 'we': 7,\n",
              " 'web': 3,\n",
              " 'which': 1,\n",
              " 'will': 4,\n",
              " 'with': 2,\n",
              " 'would': 1,\n",
              " 'write': 1,\n",
              " 'you': 8,\n",
              " 'your': 3,\n",
              " 'zoom59': 1,\n",
              " '©': 1}"
            ]
          },
          "metadata": {},
          "execution_count": 22
        }
      ]
    },
    {
      "cell_type": "code",
      "metadata": {
        "colab": {
          "base_uri": "https://localhost:8080/"
        },
        "id": "-BofqJ9QjNTc",
        "outputId": "8ddd02ac-c4c0-477f-b9ea-a43d13ec3210"
      },
      "source": [
        "len(frekuensi_kata)"
      ],
      "id": "-BofqJ9QjNTc",
      "execution_count": 23,
      "outputs": [
        {
          "output_type": "execute_result",
          "data": {
            "text/plain": [
              "120"
            ]
          },
          "metadata": {},
          "execution_count": 23
        }
      ]
    },
    {
      "cell_type": "code",
      "metadata": {
        "colab": {
          "base_uri": "https://localhost:8080/"
        },
        "id": "54oQe1MLjcPg",
        "outputId": "063e3173-2c47-413c-c20a-fee2751d3bb6"
      },
      "source": [
        "### Stop Word \n",
        "\n",
        "stoplist = stopwords.words('english')\n",
        "\n",
        "print(stoplist)"
      ],
      "id": "54oQe1MLjcPg",
      "execution_count": 26,
      "outputs": [
        {
          "output_type": "stream",
          "name": "stdout",
          "text": [
            "['i', 'me', 'my', 'myself', 'we', 'our', 'ours', 'ourselves', 'you', \"you're\", \"you've\", \"you'll\", \"you'd\", 'your', 'yours', 'yourself', 'yourselves', 'he', 'him', 'his', 'himself', 'she', \"she's\", 'her', 'hers', 'herself', 'it', \"it's\", 'its', 'itself', 'they', 'them', 'their', 'theirs', 'themselves', 'what', 'which', 'who', 'whom', 'this', 'that', \"that'll\", 'these', 'those', 'am', 'is', 'are', 'was', 'were', 'be', 'been', 'being', 'have', 'has', 'had', 'having', 'do', 'does', 'did', 'doing', 'a', 'an', 'the', 'and', 'but', 'if', 'or', 'because', 'as', 'until', 'while', 'of', 'at', 'by', 'for', 'with', 'about', 'against', 'between', 'into', 'through', 'during', 'before', 'after', 'above', 'below', 'to', 'from', 'up', 'down', 'in', 'out', 'on', 'off', 'over', 'under', 'again', 'further', 'then', 'once', 'here', 'there', 'when', 'where', 'why', 'how', 'all', 'any', 'both', 'each', 'few', 'more', 'most', 'other', 'some', 'such', 'no', 'nor', 'not', 'only', 'own', 'same', 'so', 'than', 'too', 'very', 's', 't', 'can', 'will', 'just', 'don', \"don't\", 'should', \"should've\", 'now', 'd', 'll', 'm', 'o', 're', 've', 'y', 'ain', 'aren', \"aren't\", 'couldn', \"couldn't\", 'didn', \"didn't\", 'doesn', \"doesn't\", 'hadn', \"hadn't\", 'hasn', \"hasn't\", 'haven', \"haven't\", 'isn', \"isn't\", 'ma', 'mightn', \"mightn't\", 'mustn', \"mustn't\", 'needn', \"needn't\", 'shan', \"shan't\", 'shouldn', \"shouldn't\", 'wasn', \"wasn't\", 'weren', \"weren't\", 'won', \"won't\", 'wouldn', \"wouldn't\"]\n"
          ]
        }
      ]
    },
    {
      "cell_type": "code",
      "metadata": {
        "colab": {
          "base_uri": "https://localhost:8080/"
        },
        "id": "-boXj0b4jzFk",
        "outputId": "48ed950b-4a4c-4d14-8ed6-36a058ebae68"
      },
      "source": [
        "kata_unik = list(frekuensi_kata)\n",
        "for kata in kata_unik:\n",
        "  if kata in stoplist:\n",
        "    del frekuensi_kata[kata]\n",
        "\n",
        "kata_unik"
      ],
      "id": "-boXj0b4jzFk",
      "execution_count": 27,
      "outputs": [
        {
          "output_type": "execute_result",
          "data": {
            "text/plain": [
              "['web',\n",
              " 'scraper',\n",
              " 'cloud',\n",
              " 'pricing',\n",
              " 'learn',\n",
              " 'june',\n",
              " '05',\n",
              " '2020',\n",
              " 'data',\n",
              " 'collaboration',\n",
              " 'if',\n",
              " 'you',\n",
              " 'are',\n",
              " 'a',\n",
              " 'journalist',\n",
              " 'or',\n",
              " 'enthusiast',\n",
              " 'and',\n",
              " 'in',\n",
              " 'need',\n",
              " 'of',\n",
              " 'look',\n",
              " 'no',\n",
              " 'further',\n",
              " '.',\n",
              " 'we',\n",
              " 'offer',\n",
              " 'starting',\n",
              " 'new',\n",
              " 'blog',\n",
              " 'miniseries',\n",
              " 'which',\n",
              " 'would',\n",
              " 'at',\n",
              " 'the',\n",
              " 'retrieval',\n",
              " 'technical',\n",
              " 'aspect',\n",
              " 'brief',\n",
              " 'analysis',\n",
              " 'results',\n",
              " 'any',\n",
              " 'journalists',\n",
              " 'enthusiasts',\n",
              " 'lack',\n",
              " 'solution',\n",
              " 'for',\n",
              " 'extraction',\n",
              " 'then',\n",
              " 'our',\n",
              " 'expertise',\n",
              " 'could',\n",
              " 'be',\n",
              " 'great',\n",
              " 'terms',\n",
              " 'quite',\n",
              " 'straightforward',\n",
              " 'approach',\n",
              " 'us',\n",
              " 'with',\n",
              " 'your',\n",
              " 'idea',\n",
              " 'possible',\n",
              " 'sources',\n",
              " 'that',\n",
              " 'to',\n",
              " 'extract',\n",
              " 'information',\n",
              " 'from',\n",
              " 'will',\n",
              " 'do',\n",
              " 'scraping',\n",
              " 'therefore',\n",
              " 'making',\n",
              " 'obstacle',\n",
              " 'project',\n",
              " 'research',\n",
              " 'article',\n",
              " 'return',\n",
              " 'take',\n",
              " 'this',\n",
              " 'opportunity',\n",
              " 'write',\n",
              " 'own',\n",
              " 'about',\n",
              " 'how',\n",
              " 'was',\n",
              " 'retrieved',\n",
              " 'include',\n",
              " 'interpretation',\n",
              " 'all',\n",
              " 'have',\n",
              " 'is',\n",
              " 'send',\n",
              " 'short',\n",
              " 'description',\n",
              " 'infowebscraper.io',\n",
              " 'review',\n",
              " 'it',\n",
              " 'seem',\n",
              " 'respond',\n",
              " 'an',\n",
              " 'ideaexecutionplan',\n",
              " 'gathering',\n",
              " 'not',\n",
              " 'hesitate',\n",
              " 'contact',\n",
              " 'letâ€™s',\n",
              " 'collab',\n",
              " 'products',\n",
              " 'company',\n",
              " 'resources',\n",
              " 'copyright',\n",
              " '©',\n",
              " '2021',\n",
              " 'rights',\n",
              " 'reserved',\n",
              " 'made',\n",
              " 'by',\n",
              " 'zoom59']"
            ]
          },
          "metadata": {},
          "execution_count": 27
        }
      ]
    },
    {
      "cell_type": "code",
      "metadata": {
        "colab": {
          "base_uri": "https://localhost:8080/"
        },
        "id": "L-WMoGVvj3JW",
        "outputId": "4f41703d-c37e-4a7d-a675-ef0fa2ed21fc"
      },
      "source": [
        "len(frekuensi_kata)"
      ],
      "id": "L-WMoGVvj3JW",
      "execution_count": 28,
      "outputs": [
        {
          "output_type": "execute_result",
          "data": {
            "text/plain": [
              "82"
            ]
          },
          "metadata": {},
          "execution_count": 28
        }
      ]
    },
    {
      "cell_type": "code",
      "metadata": {
        "id": "Xw30-vD5j9Pn"
      },
      "source": [
        "lemmatizer = WordNetLemmatizer() "
      ],
      "id": "Xw30-vD5j9Pn",
      "execution_count": 29,
      "outputs": []
    },
    {
      "cell_type": "code",
      "metadata": {
        "colab": {
          "base_uri": "https://localhost:8080/"
        },
        "id": "boRYzvF7kVbg",
        "outputId": "0ececca1-dbec-4548-93b0-c45e2c5e4683"
      },
      "source": [
        "token_lemmatized = [lemmatizer.lemmatize(kata, pos='v') for kata in kata_unik]\n",
        "token_lemmatized = [lemmatizer.lemmatize(kata) for kata in token_lemmatized]\n",
        "\n",
        "frekuensi_kata_postprocessing = {}\n",
        "for kata in token_lemmatized:\n",
        "  if kata not in frekuensi_kata_postprocessing:\n",
        "    frekuensi_kata_postprocessing[kata] = 1\n",
        "  else:\n",
        "    frekuensi_kata_postprocessing[kata] += 1\n",
        "\n",
        "\n",
        "frekuensi_kata_postprocessing"
      ],
      "id": "boRYzvF7kVbg",
      "execution_count": 30,
      "outputs": [
        {
          "output_type": "execute_result",
          "data": {
            "text/plain": [
              "{'.': 1,\n",
              " '05': 1,\n",
              " '2020': 1,\n",
              " '2021': 1,\n",
              " 'a': 1,\n",
              " 'about': 1,\n",
              " 'all': 1,\n",
              " 'an': 1,\n",
              " 'analysis': 1,\n",
              " 'and': 1,\n",
              " 'any': 1,\n",
              " 'approach': 1,\n",
              " 'article': 1,\n",
              " 'aspect': 1,\n",
              " 'at': 1,\n",
              " 'be': 4,\n",
              " 'blog': 1,\n",
              " 'brief': 1,\n",
              " 'by': 1,\n",
              " 'cloud': 1,\n",
              " 'collab': 1,\n",
              " 'collaboration': 1,\n",
              " 'company': 1,\n",
              " 'contact': 1,\n",
              " 'copyright': 1,\n",
              " 'could': 1,\n",
              " 'data': 1,\n",
              " 'description': 1,\n",
              " 'do': 1,\n",
              " 'enthusiast': 2,\n",
              " 'expertise': 1,\n",
              " 'extract': 1,\n",
              " 'extraction': 1,\n",
              " 'for': 1,\n",
              " 'from': 1,\n",
              " 'further': 1,\n",
              " 'gather': 1,\n",
              " 'great': 1,\n",
              " 'have': 1,\n",
              " 'hesitate': 1,\n",
              " 'how': 1,\n",
              " 'idea': 1,\n",
              " 'ideaexecutionplan': 1,\n",
              " 'if': 1,\n",
              " 'in': 1,\n",
              " 'include': 1,\n",
              " 'information': 1,\n",
              " 'infowebscraper.io': 1,\n",
              " 'interpretation': 1,\n",
              " 'it': 1,\n",
              " 'journalist': 2,\n",
              " 'june': 1,\n",
              " 'lack': 1,\n",
              " 'learn': 1,\n",
              " 'letâ€™s': 1,\n",
              " 'look': 1,\n",
              " 'make': 2,\n",
              " 'miniseries': 1,\n",
              " 'need': 1,\n",
              " 'new': 1,\n",
              " 'no': 1,\n",
              " 'not': 1,\n",
              " 'obstacle': 1,\n",
              " 'of': 1,\n",
              " 'offer': 1,\n",
              " 'opportunity': 1,\n",
              " 'or': 1,\n",
              " 'our': 1,\n",
              " 'own': 1,\n",
              " 'possible': 1,\n",
              " 'price': 1,\n",
              " 'product': 1,\n",
              " 'project': 1,\n",
              " 'quite': 1,\n",
              " 'research': 1,\n",
              " 'reserve': 1,\n",
              " 'resource': 1,\n",
              " 'respond': 1,\n",
              " 'result': 1,\n",
              " 'retrieval': 1,\n",
              " 'retrieve': 1,\n",
              " 'return': 1,\n",
              " 'review': 1,\n",
              " 'right': 1,\n",
              " 'scrap': 1,\n",
              " 'scraper': 1,\n",
              " 'seem': 1,\n",
              " 'send': 1,\n",
              " 'short': 1,\n",
              " 'solution': 1,\n",
              " 'source': 1,\n",
              " 'start': 1,\n",
              " 'straightforward': 1,\n",
              " 'take': 1,\n",
              " 'technical': 1,\n",
              " 'term': 1,\n",
              " 'that': 1,\n",
              " 'the': 1,\n",
              " 'then': 1,\n",
              " 'therefore': 1,\n",
              " 'this': 1,\n",
              " 'to': 1,\n",
              " 'u': 1,\n",
              " 'we': 1,\n",
              " 'web': 1,\n",
              " 'which': 1,\n",
              " 'will': 1,\n",
              " 'with': 1,\n",
              " 'would': 1,\n",
              " 'write': 1,\n",
              " 'you': 1,\n",
              " 'your': 1,\n",
              " 'zoom59': 1,\n",
              " '©': 1}"
            ]
          },
          "metadata": {},
          "execution_count": 30
        }
      ]
    },
    {
      "cell_type": "code",
      "metadata": {
        "colab": {
          "base_uri": "https://localhost:8080/"
        },
        "id": "lz75fGGwkcSd",
        "outputId": "dc5a88f6-4250-4d5d-d0fc-3004b98ed303"
      },
      "source": [
        "print(len(frekuensi_kata))\n",
        "print(len(frekuensi_kata_postprocessing))"
      ],
      "id": "lz75fGGwkcSd",
      "execution_count": 31,
      "outputs": [
        {
          "output_type": "stream",
          "name": "stdout",
          "text": [
            "82\n",
            "114\n"
          ]
        }
      ]
    }
  ]
}