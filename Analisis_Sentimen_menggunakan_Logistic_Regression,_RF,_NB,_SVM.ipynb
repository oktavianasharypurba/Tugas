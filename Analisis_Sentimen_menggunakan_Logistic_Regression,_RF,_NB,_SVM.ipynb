{
  "nbformat": 4,
  "nbformat_minor": 0,
  "metadata": {
    "colab": {
      "name": "Analisis_Sentimen_menggunakan_Logistic_Regression,_RF,_NB,_SVM.ipynb",
      "provenance": []
    },
    "kernelspec": {
      "name": "python3",
      "display_name": "Python 3"
    },
    "language_info": {
      "name": "python"
    }
  },
  "cells": [
    {
      "cell_type": "code",
      "metadata": {
        "colab": {
          "base_uri": "https://localhost:8080/"
        },
        "id": "POTHEwrn31NM",
        "outputId": "7add3af6-4dcc-41c8-b9af-5bbb1e319452"
      },
      "source": [
        "# Masukan Library\n",
        "\n",
        "import numpy as np\n",
        "import pandas as pd \n",
        "import re\n",
        "import requests\n",
        "import nltk\n",
        "nltk.download('stopwords')\n",
        "from nltk.corpus import stopwords\n",
        "import seaborn as sns\n",
        "import matplotlib.pyplot as plt"
      ],
      "execution_count": 1,
      "outputs": [
        {
          "output_type": "stream",
          "name": "stdout",
          "text": [
            "[nltk_data] Downloading package stopwords to /root/nltk_data...\n",
            "[nltk_data]   Unzipping corpora/stopwords.zip.\n"
          ]
        }
      ]
    },
    {
      "cell_type": "code",
      "metadata": {
        "colab": {
          "base_uri": "https://localhost:8080/",
          "height": 422
        },
        "id": "UMURDVI337Dm",
        "outputId": "b834d144-4f17-431f-da2a-83653c4f392b"
      },
      "source": [
        "data = pd.read_csv('https://raw.githubusercontent.com/rizalespe/Dataset-Sentimen-Analisis-Bahasa-Indonesia/master/dataset_tweet_sentiment_cellular_service_provider.csv')\n",
        "data"
      ],
      "execution_count": 2,
      "outputs": [
        {
          "output_type": "execute_result",
          "data": {
            "text/html": [
              "<div>\n",
              "<style scoped>\n",
              "    .dataframe tbody tr th:only-of-type {\n",
              "        vertical-align: middle;\n",
              "    }\n",
              "\n",
              "    .dataframe tbody tr th {\n",
              "        vertical-align: top;\n",
              "    }\n",
              "\n",
              "    .dataframe thead th {\n",
              "        text-align: right;\n",
              "    }\n",
              "</style>\n",
              "<table border=\"1\" class=\"dataframe\">\n",
              "  <thead>\n",
              "    <tr style=\"text-align: right;\">\n",
              "      <th></th>\n",
              "      <th>Id</th>\n",
              "      <th>Sentiment</th>\n",
              "      <th>Text Tweet</th>\n",
              "    </tr>\n",
              "  </thead>\n",
              "  <tbody>\n",
              "    <tr>\n",
              "      <th>0</th>\n",
              "      <td>1</td>\n",
              "      <td>positive</td>\n",
              "      <td>&lt;USER_MENTION&gt; #BOIKOT_&lt;PROVIDER_NAME&gt; Gunakan...</td>\n",
              "    </tr>\n",
              "    <tr>\n",
              "      <th>1</th>\n",
              "      <td>2</td>\n",
              "      <td>positive</td>\n",
              "      <td>Saktinya balik lagi, alhamdulillah :v &lt;PROVIDE...</td>\n",
              "    </tr>\n",
              "    <tr>\n",
              "      <th>2</th>\n",
              "      <td>3</td>\n",
              "      <td>negative</td>\n",
              "      <td>Selamat pagi &lt;PROVIDER_NAME&gt;  bisa bantu kenap...</td>\n",
              "    </tr>\n",
              "    <tr>\n",
              "      <th>3</th>\n",
              "      <td>4</td>\n",
              "      <td>negative</td>\n",
              "      <td>Dear &lt;PROVIDER_NAME&gt; akhir2 ini jaringan data ...</td>\n",
              "    </tr>\n",
              "    <tr>\n",
              "      <th>4</th>\n",
              "      <td>5</td>\n",
              "      <td>negative</td>\n",
              "      <td>Selamat malam PENDUSTA &lt;PROVIDER_NAME&gt;</td>\n",
              "    </tr>\n",
              "    <tr>\n",
              "      <th>...</th>\n",
              "      <td>...</td>\n",
              "      <td>...</td>\n",
              "      <td>...</td>\n",
              "    </tr>\n",
              "    <tr>\n",
              "      <th>295</th>\n",
              "      <td>296</td>\n",
              "      <td>positive</td>\n",
              "      <td>Pantesan lancar ya, sinyal &lt;PROVIDER_NAME&gt; yan...</td>\n",
              "    </tr>\n",
              "    <tr>\n",
              "      <th>296</th>\n",
              "      <td>297</td>\n",
              "      <td>positive</td>\n",
              "      <td>Alhamdulillah lancar pakai &lt;PROVIDER_NAME&gt;</td>\n",
              "    </tr>\n",
              "    <tr>\n",
              "      <th>297</th>\n",
              "      <td>298</td>\n",
              "      <td>positive</td>\n",
              "      <td>Untung pakai internet &lt;PROVIDER_NAME&gt;, lancar,...</td>\n",
              "    </tr>\n",
              "    <tr>\n",
              "      <th>298</th>\n",
              "      <td>299</td>\n",
              "      <td>positive</td>\n",
              "      <td>di tempat ramai seperti di lokasi wisata, &lt;PRO...</td>\n",
              "    </tr>\n",
              "    <tr>\n",
              "      <th>299</th>\n",
              "      <td>300</td>\n",
              "      <td>negative</td>\n",
              "      <td>Sinyal &lt;PROVIDER_NAME&gt; amsyong d stadion gajayana</td>\n",
              "    </tr>\n",
              "  </tbody>\n",
              "</table>\n",
              "<p>300 rows × 3 columns</p>\n",
              "</div>"
            ],
            "text/plain": [
              "      Id Sentiment                                         Text Tweet\n",
              "0      1  positive  <USER_MENTION> #BOIKOT_<PROVIDER_NAME> Gunakan...\n",
              "1      2  positive  Saktinya balik lagi, alhamdulillah :v <PROVIDE...\n",
              "2      3  negative  Selamat pagi <PROVIDER_NAME>  bisa bantu kenap...\n",
              "3      4  negative  Dear <PROVIDER_NAME> akhir2 ini jaringan data ...\n",
              "4      5  negative            Selamat malam PENDUSTA <PROVIDER_NAME> \n",
              "..   ...       ...                                                ...\n",
              "295  296  positive  Pantesan lancar ya, sinyal <PROVIDER_NAME> yan...\n",
              "296  297  positive         Alhamdulillah lancar pakai <PROVIDER_NAME>\n",
              "297  298  positive  Untung pakai internet <PROVIDER_NAME>, lancar,...\n",
              "298  299  positive  di tempat ramai seperti di lokasi wisata, <PRO...\n",
              "299  300  negative  Sinyal <PROVIDER_NAME> amsyong d stadion gajayana\n",
              "\n",
              "[300 rows x 3 columns]"
            ]
          },
          "metadata": {},
          "execution_count": 2
        }
      ]
    },
    {
      "cell_type": "code",
      "metadata": {
        "colab": {
          "base_uri": "https://localhost:8080/",
          "height": 205
        },
        "id": "u-dtmdT94BRz",
        "outputId": "86e619b5-fe6b-4ed9-8ba0-896061566391"
      },
      "source": [
        "data.rename(columns={'Text Tweet':'text_tweet'},inplace=True)\n",
        "data.head()"
      ],
      "execution_count": 3,
      "outputs": [
        {
          "output_type": "execute_result",
          "data": {
            "text/html": [
              "<div>\n",
              "<style scoped>\n",
              "    .dataframe tbody tr th:only-of-type {\n",
              "        vertical-align: middle;\n",
              "    }\n",
              "\n",
              "    .dataframe tbody tr th {\n",
              "        vertical-align: top;\n",
              "    }\n",
              "\n",
              "    .dataframe thead th {\n",
              "        text-align: right;\n",
              "    }\n",
              "</style>\n",
              "<table border=\"1\" class=\"dataframe\">\n",
              "  <thead>\n",
              "    <tr style=\"text-align: right;\">\n",
              "      <th></th>\n",
              "      <th>Id</th>\n",
              "      <th>Sentiment</th>\n",
              "      <th>text_tweet</th>\n",
              "    </tr>\n",
              "  </thead>\n",
              "  <tbody>\n",
              "    <tr>\n",
              "      <th>0</th>\n",
              "      <td>1</td>\n",
              "      <td>positive</td>\n",
              "      <td>&lt;USER_MENTION&gt; #BOIKOT_&lt;PROVIDER_NAME&gt; Gunakan...</td>\n",
              "    </tr>\n",
              "    <tr>\n",
              "      <th>1</th>\n",
              "      <td>2</td>\n",
              "      <td>positive</td>\n",
              "      <td>Saktinya balik lagi, alhamdulillah :v &lt;PROVIDE...</td>\n",
              "    </tr>\n",
              "    <tr>\n",
              "      <th>2</th>\n",
              "      <td>3</td>\n",
              "      <td>negative</td>\n",
              "      <td>Selamat pagi &lt;PROVIDER_NAME&gt;  bisa bantu kenap...</td>\n",
              "    </tr>\n",
              "    <tr>\n",
              "      <th>3</th>\n",
              "      <td>4</td>\n",
              "      <td>negative</td>\n",
              "      <td>Dear &lt;PROVIDER_NAME&gt; akhir2 ini jaringan data ...</td>\n",
              "    </tr>\n",
              "    <tr>\n",
              "      <th>4</th>\n",
              "      <td>5</td>\n",
              "      <td>negative</td>\n",
              "      <td>Selamat malam PENDUSTA &lt;PROVIDER_NAME&gt;</td>\n",
              "    </tr>\n",
              "  </tbody>\n",
              "</table>\n",
              "</div>"
            ],
            "text/plain": [
              "   Id Sentiment                                         text_tweet\n",
              "0   1  positive  <USER_MENTION> #BOIKOT_<PROVIDER_NAME> Gunakan...\n",
              "1   2  positive  Saktinya balik lagi, alhamdulillah :v <PROVIDE...\n",
              "2   3  negative  Selamat pagi <PROVIDER_NAME>  bisa bantu kenap...\n",
              "3   4  negative  Dear <PROVIDER_NAME> akhir2 ini jaringan data ...\n",
              "4   5  negative            Selamat malam PENDUSTA <PROVIDER_NAME> "
            ]
          },
          "metadata": {},
          "execution_count": 3
        }
      ]
    },
    {
      "cell_type": "code",
      "metadata": {
        "colab": {
          "base_uri": "https://localhost:8080/",
          "height": 205
        },
        "id": "NDIlspMi4Cja",
        "outputId": "e0ae101d-ec33-406a-a0c1-b4c654241efd"
      },
      "source": [
        "# Cek 5 Dataset teratas\n",
        "data.head()"
      ],
      "execution_count": 4,
      "outputs": [
        {
          "output_type": "execute_result",
          "data": {
            "text/html": [
              "<div>\n",
              "<style scoped>\n",
              "    .dataframe tbody tr th:only-of-type {\n",
              "        vertical-align: middle;\n",
              "    }\n",
              "\n",
              "    .dataframe tbody tr th {\n",
              "        vertical-align: top;\n",
              "    }\n",
              "\n",
              "    .dataframe thead th {\n",
              "        text-align: right;\n",
              "    }\n",
              "</style>\n",
              "<table border=\"1\" class=\"dataframe\">\n",
              "  <thead>\n",
              "    <tr style=\"text-align: right;\">\n",
              "      <th></th>\n",
              "      <th>Id</th>\n",
              "      <th>Sentiment</th>\n",
              "      <th>text_tweet</th>\n",
              "    </tr>\n",
              "  </thead>\n",
              "  <tbody>\n",
              "    <tr>\n",
              "      <th>0</th>\n",
              "      <td>1</td>\n",
              "      <td>positive</td>\n",
              "      <td>&lt;USER_MENTION&gt; #BOIKOT_&lt;PROVIDER_NAME&gt; Gunakan...</td>\n",
              "    </tr>\n",
              "    <tr>\n",
              "      <th>1</th>\n",
              "      <td>2</td>\n",
              "      <td>positive</td>\n",
              "      <td>Saktinya balik lagi, alhamdulillah :v &lt;PROVIDE...</td>\n",
              "    </tr>\n",
              "    <tr>\n",
              "      <th>2</th>\n",
              "      <td>3</td>\n",
              "      <td>negative</td>\n",
              "      <td>Selamat pagi &lt;PROVIDER_NAME&gt;  bisa bantu kenap...</td>\n",
              "    </tr>\n",
              "    <tr>\n",
              "      <th>3</th>\n",
              "      <td>4</td>\n",
              "      <td>negative</td>\n",
              "      <td>Dear &lt;PROVIDER_NAME&gt; akhir2 ini jaringan data ...</td>\n",
              "    </tr>\n",
              "    <tr>\n",
              "      <th>4</th>\n",
              "      <td>5</td>\n",
              "      <td>negative</td>\n",
              "      <td>Selamat malam PENDUSTA &lt;PROVIDER_NAME&gt;</td>\n",
              "    </tr>\n",
              "  </tbody>\n",
              "</table>\n",
              "</div>"
            ],
            "text/plain": [
              "   Id Sentiment                                         text_tweet\n",
              "0   1  positive  <USER_MENTION> #BOIKOT_<PROVIDER_NAME> Gunakan...\n",
              "1   2  positive  Saktinya balik lagi, alhamdulillah :v <PROVIDE...\n",
              "2   3  negative  Selamat pagi <PROVIDER_NAME>  bisa bantu kenap...\n",
              "3   4  negative  Dear <PROVIDER_NAME> akhir2 ini jaringan data ...\n",
              "4   5  negative            Selamat malam PENDUSTA <PROVIDER_NAME> "
            ]
          },
          "metadata": {},
          "execution_count": 4
        }
      ]
    },
    {
      "cell_type": "code",
      "metadata": {
        "colab": {
          "base_uri": "https://localhost:8080/",
          "height": 205
        },
        "id": "xtGNfuqW4FnI",
        "outputId": "0d9205b8-cba6-434a-9690-8999d097ff88"
      },
      "source": [
        "# Cek 5 Dataset terbawah\n",
        "data.tail()"
      ],
      "execution_count": 5,
      "outputs": [
        {
          "output_type": "execute_result",
          "data": {
            "text/html": [
              "<div>\n",
              "<style scoped>\n",
              "    .dataframe tbody tr th:only-of-type {\n",
              "        vertical-align: middle;\n",
              "    }\n",
              "\n",
              "    .dataframe tbody tr th {\n",
              "        vertical-align: top;\n",
              "    }\n",
              "\n",
              "    .dataframe thead th {\n",
              "        text-align: right;\n",
              "    }\n",
              "</style>\n",
              "<table border=\"1\" class=\"dataframe\">\n",
              "  <thead>\n",
              "    <tr style=\"text-align: right;\">\n",
              "      <th></th>\n",
              "      <th>Id</th>\n",
              "      <th>Sentiment</th>\n",
              "      <th>text_tweet</th>\n",
              "    </tr>\n",
              "  </thead>\n",
              "  <tbody>\n",
              "    <tr>\n",
              "      <th>295</th>\n",
              "      <td>296</td>\n",
              "      <td>positive</td>\n",
              "      <td>Pantesan lancar ya, sinyal &lt;PROVIDER_NAME&gt; yan...</td>\n",
              "    </tr>\n",
              "    <tr>\n",
              "      <th>296</th>\n",
              "      <td>297</td>\n",
              "      <td>positive</td>\n",
              "      <td>Alhamdulillah lancar pakai &lt;PROVIDER_NAME&gt;</td>\n",
              "    </tr>\n",
              "    <tr>\n",
              "      <th>297</th>\n",
              "      <td>298</td>\n",
              "      <td>positive</td>\n",
              "      <td>Untung pakai internet &lt;PROVIDER_NAME&gt;, lancar,...</td>\n",
              "    </tr>\n",
              "    <tr>\n",
              "      <th>298</th>\n",
              "      <td>299</td>\n",
              "      <td>positive</td>\n",
              "      <td>di tempat ramai seperti di lokasi wisata, &lt;PRO...</td>\n",
              "    </tr>\n",
              "    <tr>\n",
              "      <th>299</th>\n",
              "      <td>300</td>\n",
              "      <td>negative</td>\n",
              "      <td>Sinyal &lt;PROVIDER_NAME&gt; amsyong d stadion gajayana</td>\n",
              "    </tr>\n",
              "  </tbody>\n",
              "</table>\n",
              "</div>"
            ],
            "text/plain": [
              "      Id Sentiment                                         text_tweet\n",
              "295  296  positive  Pantesan lancar ya, sinyal <PROVIDER_NAME> yan...\n",
              "296  297  positive         Alhamdulillah lancar pakai <PROVIDER_NAME>\n",
              "297  298  positive  Untung pakai internet <PROVIDER_NAME>, lancar,...\n",
              "298  299  positive  di tempat ramai seperti di lokasi wisata, <PRO...\n",
              "299  300  negative  Sinyal <PROVIDER_NAME> amsyong d stadion gajayana"
            ]
          },
          "metadata": {},
          "execution_count": 5
        }
      ]
    },
    {
      "cell_type": "code",
      "metadata": {
        "colab": {
          "base_uri": "https://localhost:8080/",
          "height": 54
        },
        "id": "t86qvj3z4JH-",
        "outputId": "7ab8a2a7-313f-4fcb-cdf1-2372580f5f52"
      },
      "source": [
        "# Cek attribut dataset\n",
        "display(data.columns)\n",
        "\n",
        "# Cek jumlah baris dan kolom dataset\n",
        "display(data.shape)"
      ],
      "execution_count": 6,
      "outputs": [
        {
          "output_type": "display_data",
          "data": {
            "text/plain": [
              "Index(['Id', 'Sentiment', 'text_tweet'], dtype='object')"
            ]
          },
          "metadata": {}
        },
        {
          "output_type": "display_data",
          "data": {
            "text/plain": [
              "(300, 3)"
            ]
          },
          "metadata": {}
        }
      ]
    },
    {
      "cell_type": "code",
      "metadata": {
        "colab": {
          "base_uri": "https://localhost:8080/",
          "height": 279
        },
        "id": "73nSByib4Ox4",
        "outputId": "58bf09e8-041f-4d4c-ac96-f156b21c35e1"
      },
      "source": [
        "# Eksplorasi data\n",
        "sns.countplot(x='Sentiment', data = data);"
      ],
      "execution_count": 7,
      "outputs": [
        {
          "output_type": "display_data",
          "data": {
            "image/png": "[encoded data removed]",
            "text/plain": [
              "<Figure size 432x288 with 1 Axes>"
            ]
          },
          "metadata": {
            "needs_background": "light"
          }
        }
      ]
    },
    {
      "cell_type": "code",
      "metadata": {
        "colab": {
          "base_uri": "https://localhost:8080/"
        },
        "id": "m7XqvHyQ4RF3",
        "outputId": "c223f426-6e42-4af0-aa19-1731deb197e4"
      },
      "source": [
        "# Encoding\n",
        "\n",
        "from sklearn.preprocessing import LabelEncoder \n",
        "\n",
        "X = data.iloc[:,2].values \n",
        "Le = LabelEncoder()\n",
        "Le.fit(['positive','negative']) \n",
        "\n",
        "y = Le.transform(data.iloc[:,1].values)\n",
        "\n",
        "print(list(Le.classes_))"
      ],
      "execution_count": 8,
      "outputs": [
        {
          "output_type": "stream",
          "name": "stdout",
          "text": [
            "['negative', 'positive']\n"
          ]
        }
      ]
    },
    {
      "cell_type": "code",
      "metadata": {
        "colab": {
          "base_uri": "https://localhost:8080/"
        },
        "id": "3rc2qtOl4no3",
        "outputId": "65d72e0c-8653-41ba-f857-7ae157af4f6d"
      },
      "source": [
        "#menghitung jumlah data masing-masing label\n",
        "data[\"Sentiment\"].value_counts()"
      ],
      "execution_count": 9,
      "outputs": [
        {
          "output_type": "execute_result",
          "data": {
            "text/plain": [
              "negative    161\n",
              "positive    139\n",
              "Name: Sentiment, dtype: int64"
            ]
          },
          "metadata": {},
          "execution_count": 9
        }
      ]
    },
    {
      "cell_type": "code",
      "metadata": {
        "id": "x92aR4cG4sUg"
      },
      "source": [
        "#simpan kata-kata stopword\n",
        "\n",
        "# f=open('stopwordlist.txt')\n",
        "\n",
        "url = \"https://raw.githubusercontent.com/Wayan123/Sentiment-Analysis/main/stopwordlist.txt\"\n",
        "ina_stopword = requests.get(url).content\n",
        "\n",
        "tempStoplist = []\n",
        "for tempstp in ina_stopword.split():\n",
        "  tempStoplist.append(tempstp)"
      ],
      "execution_count": 10,
      "outputs": []
    },
    {
      "cell_type": "code",
      "metadata": {
        "id": "frIZOd1I4yWR"
      },
      "source": [
        "TEXT_CLEANING_RE = \"@#=-_\\S+|https?:\\S+http?:\\S|{^A-Za-z}+\" #regex untuk remove punctuation\n",
        "\n",
        "def preprocessing(tweet):\n",
        "  tweet = re.sub(TEXT_CLEANING_RE,'', str(tweet).lower()).strip() #casefolding dan remove punctuation\n",
        "  tokens = []\n",
        "  for token in tweet.split():\n",
        "    if token not in tempStoplist: #jika token tidak di stopword maka simpan\n",
        "      tokens.append(token) \n",
        "  return \" \".join(tokens)"
      ],
      "execution_count": 11,
      "outputs": []
    },
    {
      "cell_type": "code",
      "metadata": {
        "colab": {
          "base_uri": "https://localhost:8080/"
        },
        "id": "ODQjKcPl42rz",
        "outputId": "ea21bd41-cd82-40ae-a73b-64c4ba8abbb5"
      },
      "source": [
        "# Mengimplementasikan preprocessing Menggunakan Stemming Sastrawi dan Stopwordlist Indonesia\n",
        "%%time\n",
        "\n",
        "data['clean_twt'] = data.text_tweet.apply(lambda x: preprocessing(x))\n",
        "data['clean_twt'] = data.clean_twt.str.replace('rt', '')"
      ],
      "execution_count": 12,
      "outputs": [
        {
          "output_type": "stream",
          "name": "stdout",
          "text": [
            "CPU times: user 76.4 ms, sys: 1.89 ms, total: 78.3 ms\n",
            "Wall time: 83.1 ms\n"
          ]
        }
      ]
    },
    {
      "cell_type": "code",
      "metadata": {
        "colab": {
          "base_uri": "https://localhost:8080/"
        },
        "id": "JyYf_c-c43xz",
        "outputId": "fcec05cd-bf4d-4c28-a33e-ebb813c90567"
      },
      "source": [
        "#melakukan pemodelan prediksi\n",
        "%%time\n",
        "from sklearn.feature_extraction.text import TfidfVectorizer\n",
        "from sklearn.model_selection import train_test_split\n",
        "from sklearn.metrics import f1_score, log_loss, accuracy_score, recall_score, precision_score"
      ],
      "execution_count": 16,
      "outputs": [
        {
          "output_type": "stream",
          "name": "stdout",
          "text": [
            "CPU times: user 26 µs, sys: 5 µs, total: 31 µs\n",
            "Wall time: 37.2 µs\n"
          ]
        }
      ]
    },
    {
      "cell_type": "code",
      "metadata": {
        "id": "1w81qPv05DPj"
      },
      "source": [
        "#membangun vector space model/pembobotan dengan tfidf\n",
        "vectorizer = TfidfVectorizer(ngram_range=(1,3), min_df=10)\n",
        "features = vectorizer.fit_transform(data.clean_twt).toarray()"
      ],
      "execution_count": 17,
      "outputs": []
    },
    {
      "cell_type": "code",
      "metadata": {
        "colab": {
          "base_uri": "https://localhost:8080/"
        },
        "id": "13GEjr3H54cy",
        "outputId": "08fc3dd7-af71-4932-b113-ed2dacd60bfc"
      },
      "source": [
        "vectorizer.vocabulary_"
      ],
      "execution_count": 18,
      "outputs": [
        {
          "output_type": "execute_result",
          "data": {
            "text/plain": [
              "{'4g': 0,\n",
              " '4g provider_name': 1,\n",
              " 'ada': 2,\n",
              " 'aja': 3,\n",
              " 'alhamdulillah': 4,\n",
              " 'banget': 5,\n",
              " 'banyak': 6,\n",
              " 'bikin': 7,\n",
              " 'bisa': 8,\n",
              " 'boikot': 9,\n",
              " 'boikot provider_name': 10,\n",
              " 'buat': 11,\n",
              " 'cuma': 12,\n",
              " 'dan': 13,\n",
              " 'dapat': 14,\n",
              " 'dari': 15,\n",
              " 'dari provider_name': 16,\n",
              " 'data': 17,\n",
              " 'dengan': 18,\n",
              " 'di': 19,\n",
              " 'gak': 20,\n",
              " 'gratis': 21,\n",
              " 'hari': 22,\n",
              " 'ini': 23,\n",
              " 'internet': 24,\n",
              " 'jadi': 25,\n",
              " 'jaringan': 26,\n",
              " 'juga': 27,\n",
              " 'karena': 28,\n",
              " 'kau': 29,\n",
              " 'ke': 30,\n",
              " 'kenapa': 31,\n",
              " 'kok': 32,\n",
              " 'kuota': 33,\n",
              " 'lagi': 34,\n",
              " 'lancar': 35,\n",
              " 'lebih': 36,\n",
              " 'lemot': 37,\n",
              " 'mahal': 38,\n",
              " 'makin': 39,\n",
              " 'masih': 40,\n",
              " 'memang': 41,\n",
              " 'pakai': 42,\n",
              " 'pakai provider_name': 43,\n",
              " 'paket': 44,\n",
              " 'product_name': 45,\n",
              " 'provider_name': 46,\n",
              " 'provider_name provider_name': 47,\n",
              " 'provider_name url': 48,\n",
              " 'pulsa': 49,\n",
              " 'saja': 50,\n",
              " 'sama': 51,\n",
              " 'sangat': 52,\n",
              " 'saya': 53,\n",
              " 'sinyal': 54,\n",
              " 'sudah': 55,\n",
              " 'tapi': 56,\n",
              " 'tidak': 57,\n",
              " 'url': 58,\n",
              " 'user_mention': 59,\n",
              " 'ya': 60,\n",
              " 'yang': 61,\n",
              " 'youtube': 62}"
            ]
          },
          "metadata": {},
          "execution_count": 18
        }
      ]
    },
    {
      "cell_type": "code",
      "metadata": {
        "id": "7ycu7Rem57i-"
      },
      "source": [
        "#melakukan split data training untuk mengetahui akurasi\n",
        "X_train, X_test, y_train, y_test = train_test_split(features, y, test_size=0.2, random_state=42)"
      ],
      "execution_count": 19,
      "outputs": []
    },
    {
      "cell_type": "code",
      "metadata": {
        "id": "tr9mrWS05_tH"
      },
      "source": [
        "#modeling sentiment Logistic Regression\n",
        "from sklearn.linear_model import LogisticRegression\n",
        "t0_lr = time.time()\n",
        "text_classifier_lr = LogisticRegression()\n",
        "text_classifier_lr.fit(X_train, y_train)\n",
        "t1_lr = time.time()"
      ],
      "execution_count": 21,
      "outputs": []
    },
    {
      "cell_type": "code",
      "metadata": {
        "id": "p8yLtpeo6KIn"
      },
      "source": [
        "#modeling sentiment Random Forest Classifier\n",
        "from sklearn.ensemble import RandomForestClassifier\n",
        "text_classifier_en = RandomForestClassifier(n_estimators=100, random_state=0)\n",
        "t0_en = time.time()\n",
        "text_classifier_en.fit(X_train, y_train)\n",
        "t1_en = time.time()"
      ],
      "execution_count": 22,
      "outputs": []
    },
    {
      "cell_type": "code",
      "metadata": {
        "id": "IGwm1SQ96Ph1"
      },
      "source": [
        "#modeling sentiment Naive Bayes\n",
        "from sklearn.naive_bayes import GaussianNB\n",
        "text_classifier_nb = GaussianNB()  \n",
        "t0_nb = time.time()\n",
        "text_classifier_nb.fit(X_train, y_train)\n",
        "t1_nb = time.time()"
      ],
      "execution_count": 23,
      "outputs": []
    },
    {
      "cell_type": "code",
      "metadata": {
        "id": "-Hh7kahL6Sh2"
      },
      "source": [
        "#modeling sentiment Support Vector Machine\n",
        "from sklearn.svm import SVC\n",
        "text_classifier_svm = SVC(kernel='linear')\n",
        "t0_svm = time.time()\n",
        "text_classifier_svm.fit(X_train, y_train)\n",
        "t1_svm = time.time()"
      ],
      "execution_count": 24,
      "outputs": []
    },
    {
      "cell_type": "code",
      "metadata": {
        "colab": {
          "base_uri": "https://localhost:8080/"
        },
        "id": "0DyI06H66V-I",
        "outputId": "336370cd-862b-402c-dbdb-5e54c945c0fe"
      },
      "source": [
        "predictions_lr = text_classifier_lr.predict(X_test)\n",
        "t2_lr = time.time()\n",
        "time_linear_train_lr = t1_lr-t0_lr\n",
        "time_linear_predict_lr = t2_lr-t1_lr\n",
        "\n",
        "predictions_en = text_classifier_en.predict(X_test)\n",
        "t2_en = time.time()\n",
        "time_linear_train_en = t1_en-t0_en\n",
        "time_linear_predict_en = t2_en-t1_en\n",
        "\n",
        "predictions_nb = text_classifier_nb.predict(X_test)\n",
        "t2_nb = time.time()\n",
        "time_linear_train_nb = t1_nb-t0_nb\n",
        "time_linear_predict_nb = t2_nb-t1_nb\n",
        "\n",
        "predictions_svm = text_classifier_svm.predict(X_test)\n",
        "t2_svm = time.time()\n",
        "time_linear_train_svm = t1_svm-t0_svm\n",
        "time_linear_predict_svm = t2_svm-t1_svm\n",
        "\n",
        "# results\n",
        "print(\"LR Training time: %fs; Prediction time: %fs\" % (time_linear_train_lr, time_linear_predict_lr))\n",
        "print(\"EN Training time: %fs; Prediction time: %fs\" % (time_linear_train_en, time_linear_predict_en))\n",
        "print(\"NB Training time: %fs; Prediction time: %fs\" % (time_linear_train_nb, time_linear_predict_nb))\n",
        "print(\"SVM Training time: %fs; Prediction time: %fs\" % (time_linear_train_svm, time_linear_predict_svm))"
      ],
      "execution_count": 25,
      "outputs": [
        {
          "output_type": "stream",
          "name": "stdout",
          "text": [
            "LR Training time: 0.019401s; Prediction time: 54.606499s\n",
            "EN Training time: 0.178359s; Prediction time: 52.735955s\n",
            "NB Training time: 0.001384s; Prediction time: 39.496658s\n",
            "SVM Training time: 0.011591s; Prediction time: 25.072213s\n"
          ]
        }
      ]
    },
    {
      "cell_type": "code",
      "metadata": {
        "colab": {
          "base_uri": "https://localhost:8080/"
        },
        "id": "AaJyt6N56eSk",
        "outputId": "8cf5ea86-86f3-4eba-eb2f-7f9899e3dbaf"
      },
      "source": [
        "# Result\n",
        "\n",
        "from sklearn.metrics import classification_report, confusion_matrix, accuracy_score, recall_score, precision_score, f1_score, roc_auc_score\n",
        "\n",
        "print(\"Logistic Regression\")\n",
        "print('Accuracy  = ', round(accuracy_score(y_test, predictions_lr)*100,2),'%')\n",
        "print('Recall    = ', round(recall_score(y_test, predictions_lr)*100,2),'%')\n",
        "print('Precision = ', round(precision_score(y_test, predictions_lr)*100,2),'%')\n",
        "print('F1-Score  = ', round(f1_score(y_test, predictions_lr)*100,2),'%')\n",
        "print('ROC AUC   = ', roc_auc_score(y_test, predictions_lr))\n",
        "print(\"\")\n",
        "print(\"Random Forest\")\n",
        "print('Accuracy  = ', round(accuracy_score(y_test, predictions_en)*100,2),'%')\n",
        "print('Recall    = ', round(recall_score(y_test, predictions_en)*100,2),'%')\n",
        "print('Precision = ', round(precision_score(y_test, predictions_en)*100,2),'%')\n",
        "print('F1-Score  = ', round(f1_score(y_test, predictions_en)*100,2),'%')\n",
        "print('ROC AUC   = ', roc_auc_score(y_test, predictions_en))\n",
        "print(\"\")\n",
        "print(\"Naive Bayes\")\n",
        "print('Accuracy  = ', round(accuracy_score(y_test, predictions_nb)*100,2),'%')\n",
        "print('Recall    = ', round(recall_score(y_test, predictions_nb)*100,2),'%')\n",
        "print('Precision = ', round(precision_score(y_test, predictions_nb)*100,2),'%')\n",
        "print('F1-Score  = ', round(f1_score(y_test, predictions_nb)*100,2),'%')\n",
        "print('ROC AUC   = ', roc_auc_score(y_test, predictions_nb))\n",
        "print(\"\")\n",
        "print(\"Support Vector Machine\")\n",
        "print('Accuracy  = ', round(accuracy_score(y_test, predictions_svm)*100,2),'%')\n",
        "print('Recall    = ', round(recall_score(y_test, predictions_svm)*100,2),'%')\n",
        "print('Precision = ', round(precision_score(y_test, predictions_svm)*100,2),'%')\n",
        "print('F1-Score  = ', round(f1_score(y_test, predictions_svm)*100,2),'%')\n",
        "print('ROC AUC   = ', roc_auc_score(y_test, predictions_svm))\n",
        "print(\"\")"
      ],
      "execution_count": 26,
      "outputs": [
        {
          "output_type": "stream",
          "name": "stdout",
          "text": [
            "Logistic Regression\n",
            "Accuracy  =  76.67 %\n",
            "Recall    =  70.37 %\n",
            "Precision =  76.0 %\n",
            "F1-Score  =  73.08 %\n",
            "ROC AUC   =  0.7609427609427609\n",
            "\n",
            "Random Forest\n",
            "Accuracy  =  75.0 %\n",
            "Recall    =  74.07 %\n",
            "Precision =  71.43 %\n",
            "F1-Score  =  72.73 %\n",
            "ROC AUC   =  0.7491582491582491\n",
            "\n",
            "Naive Bayes\n",
            "Accuracy  =  80.0 %\n",
            "Recall    =  74.07 %\n",
            "Precision =  80.0 %\n",
            "F1-Score  =  76.92 %\n",
            "ROC AUC   =  0.7946127946127945\n",
            "\n",
            "Support Vector Machine\n",
            "Accuracy  =  76.67 %\n",
            "Recall    =  74.07 %\n",
            "Precision =  74.07 %\n",
            "F1-Score  =  74.07 %\n",
            "ROC AUC   =  0.7643097643097643\n",
            "\n"
          ]
        }
      ]
    }
  ]
}