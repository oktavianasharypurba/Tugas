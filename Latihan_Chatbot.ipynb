{
  "nbformat": 4,
  "nbformat_minor": 0,
  "metadata": {
    "colab": {
      "name": "Latihan_Chatbot.ipynb",
      "provenance": [],
      "collapsed_sections": []
    },
    "kernelspec": {
      "name": "python3",
      "display_name": "Python 3"
    },
    "language_info": {
      "name": "python"
    }
  },
  "cells": [
    {
      "cell_type": "code",
      "metadata": {
        "colab": {
          "base_uri": "https://localhost:8080/"
        },
        "id": "n42QJWwd8h36",
        "outputId": "6ceb38d9-815f-4f52-96e2-b369244740f6"
      },
      "source": [
        "!pip install newspaper3k"
      ],
      "execution_count": null,
      "outputs": [
        {
          "output_type": "stream",
          "name": "stdout",
          "text": [
            "Collecting newspaper3k\n",
            "  Downloading newspaper3k-0.2.8-py3-none-any.whl (211 kB)\n",
            "\u001b[?25l\r\u001b[K     |█▌                              | 10 kB 24.9 MB/s eta 0:00:01\r\u001b[K     |███                             | 20 kB 26.0 MB/s eta 0:00:01\r\u001b[K     |████▋                           | 30 kB 12.5 MB/s eta 0:00:01\r\u001b[K     |██████▏                         | 40 kB 9.2 MB/s eta 0:00:01\r\u001b[K     |███████▊                        | 51 kB 5.2 MB/s eta 0:00:01\r\u001b[K     |█████████▎                      | 61 kB 5.7 MB/s eta 0:00:01\r\u001b[K     |██████████▉                     | 71 kB 5.4 MB/s eta 0:00:01\r\u001b[K     |████████████▍                   | 81 kB 6.0 MB/s eta 0:00:01\r\u001b[K     |██████████████                  | 92 kB 4.7 MB/s eta 0:00:01\r\u001b[K     |███████████████▌                | 102 kB 5.1 MB/s eta 0:00:01\r\u001b[K     |█████████████████               | 112 kB 5.1 MB/s eta 0:00:01\r\u001b[K     |██████████████████▋             | 122 kB 5.1 MB/s eta 0:00:01\r\u001b[K     |████████████████████▏           | 133 kB 5.1 MB/s eta 0:00:01\r\u001b[K     |█████████████████████▊          | 143 kB 5.1 MB/s eta 0:00:01\r\u001b[K     |███████████████████████▎        | 153 kB 5.1 MB/s eta 0:00:01\r\u001b[K     |████████████████████████▉       | 163 kB 5.1 MB/s eta 0:00:01\r\u001b[K     |██████████████████████████▍     | 174 kB 5.1 MB/s eta 0:00:01\r\u001b[K     |████████████████████████████    | 184 kB 5.1 MB/s eta 0:00:01\r\u001b[K     |█████████████████████████████▌  | 194 kB 5.1 MB/s eta 0:00:01\r\u001b[K     |███████████████████████████████ | 204 kB 5.1 MB/s eta 0:00:01\r\u001b[K     |████████████████████████████████| 211 kB 5.1 MB/s \n",
            "\u001b[?25hCollecting cssselect>=0.9.2\n",
            "  Downloading cssselect-1.1.0-py2.py3-none-any.whl (16 kB)\n",
            "Requirement already satisfied: requests>=2.10.0 in /usr/local/lib/python3.7/dist-packages (from newspaper3k) (2.23.0)\n",
            "Collecting tinysegmenter==0.3\n",
            "  Downloading tinysegmenter-0.3.tar.gz (16 kB)\n",
            "Requirement already satisfied: lxml>=3.6.0 in /usr/local/lib/python3.7/dist-packages (from newspaper3k) (4.2.6)\n",
            "Collecting feedparser>=5.2.1\n",
            "  Downloading feedparser-6.0.8-py3-none-any.whl (81 kB)\n",
            "\u001b[K     |████████████████████████████████| 81 kB 8.7 MB/s \n",
            "\u001b[?25hRequirement already satisfied: Pillow>=3.3.0 in /usr/local/lib/python3.7/dist-packages (from newspaper3k) (7.1.2)\n",
            "Requirement already satisfied: beautifulsoup4>=4.4.1 in /usr/local/lib/python3.7/dist-packages (from newspaper3k) (4.6.3)\n",
            "Requirement already satisfied: nltk>=3.2.1 in /usr/local/lib/python3.7/dist-packages (from newspaper3k) (3.2.5)\n",
            "Collecting feedfinder2>=0.0.4\n",
            "  Downloading feedfinder2-0.0.4.tar.gz (3.3 kB)\n",
            "Requirement already satisfied: PyYAML>=3.11 in /usr/local/lib/python3.7/dist-packages (from newspaper3k) (3.13)\n",
            "Collecting tldextract>=2.0.1\n",
            "  Downloading tldextract-3.1.2-py2.py3-none-any.whl (87 kB)\n",
            "\u001b[K     |████████████████████████████████| 87 kB 6.2 MB/s \n",
            "\u001b[?25hRequirement already satisfied: python-dateutil>=2.5.3 in /usr/local/lib/python3.7/dist-packages (from newspaper3k) (2.8.2)\n",
            "Collecting jieba3k>=0.35.1\n",
            "  Downloading jieba3k-0.35.1.zip (7.4 MB)\n",
            "\u001b[K     |████████████████████████████████| 7.4 MB 62.3 MB/s \n",
            "\u001b[?25hRequirement already satisfied: six in /usr/local/lib/python3.7/dist-packages (from feedfinder2>=0.0.4->newspaper3k) (1.15.0)\n",
            "Collecting sgmllib3k\n",
            "  Downloading sgmllib3k-1.0.0.tar.gz (5.8 kB)\n",
            "Requirement already satisfied: chardet<4,>=3.0.2 in /usr/local/lib/python3.7/dist-packages (from requests>=2.10.0->newspaper3k) (3.0.4)\n",
            "Requirement already satisfied: idna<3,>=2.5 in /usr/local/lib/python3.7/dist-packages (from requests>=2.10.0->newspaper3k) (2.10)\n",
            "Requirement already satisfied: certifi>=2017.4.17 in /usr/local/lib/python3.7/dist-packages (from requests>=2.10.0->newspaper3k) (2021.5.30)\n",
            "Requirement already satisfied: urllib3!=1.25.0,!=1.25.1,<1.26,>=1.21.1 in /usr/local/lib/python3.7/dist-packages (from requests>=2.10.0->newspaper3k) (1.24.3)\n",
            "Requirement already satisfied: filelock>=3.0.8 in /usr/local/lib/python3.7/dist-packages (from tldextract>=2.0.1->newspaper3k) (3.3.0)\n",
            "Collecting requests-file>=1.4\n",
            "  Downloading requests_file-1.5.1-py2.py3-none-any.whl (3.7 kB)\n",
            "Building wheels for collected packages: tinysegmenter, feedfinder2, jieba3k, sgmllib3k\n",
            "  Building wheel for tinysegmenter (setup.py) ... \u001b[?25l\u001b[?25hdone\n",
            "  Created wheel for tinysegmenter: filename=tinysegmenter-0.3-py3-none-any.whl size=13552 sha256=a4f7e60ed9dd903c6630080046febb2d2974403b033dafbab8fae99d5d795514\n",
            "  Stored in directory: /root/.cache/pip/wheels/df/67/41/faca10fa501ca010be41b49d40360c2959e1c4f09bcbfa37fa\n",
            "  Building wheel for feedfinder2 (setup.py) ... \u001b[?25l\u001b[?25hdone\n",
            "  Created wheel for feedfinder2: filename=feedfinder2-0.0.4-py3-none-any.whl size=3356 sha256=e3f39ce179cedde68cf51c0cd190e08c70cbc0fb359b606fb3776f528e89cd05\n",
            "  Stored in directory: /root/.cache/pip/wheels/7f/d4/8f/6e2ca54744c9d7292d88ddb8d42876bcdab5e6d84a21c10346\n",
            "  Building wheel for jieba3k (setup.py) ... \u001b[?25l\u001b[?25hdone\n",
            "  Created wheel for jieba3k: filename=jieba3k-0.35.1-py3-none-any.whl size=7398405 sha256=15a8f3d3c5d136c93cefa1eed3d35b787ae5b0c28d6b5fdbef99a085084a9053\n",
            "  Stored in directory: /root/.cache/pip/wheels/4c/91/46/3c208287b726df325a5979574324878b679116e4baae1af3c3\n",
            "  Building wheel for sgmllib3k (setup.py) ... \u001b[?25l\u001b[?25hdone\n",
            "  Created wheel for sgmllib3k: filename=sgmllib3k-1.0.0-py3-none-any.whl size=6065 sha256=bd789cc66f90a6656fcdfecbad3895cd5470a858d0d5367a960977836d040331\n",
            "  Stored in directory: /root/.cache/pip/wheels/73/ad/a4/0dff4a6ef231fc0dfa12ffbac2a36cebfdddfe059f50e019aa\n",
            "Successfully built tinysegmenter feedfinder2 jieba3k sgmllib3k\n",
            "Installing collected packages: sgmllib3k, requests-file, tldextract, tinysegmenter, jieba3k, feedparser, feedfinder2, cssselect, newspaper3k\n",
            "Successfully installed cssselect-1.1.0 feedfinder2-0.0.4 feedparser-6.0.8 jieba3k-0.35.1 newspaper3k-0.2.8 requests-file-1.5.1 sgmllib3k-1.0.0 tinysegmenter-0.3 tldextract-3.1.2\n"
          ]
        }
      ]
    },
    {
      "cell_type": "code",
      "metadata": {
        "id": "H0tCPcpr9VXO"
      },
      "source": [
        "# Import library\n",
        "from newspaper import Article\n",
        "import random\n",
        "import nltk\n",
        "import string\n",
        "from sklearn.feature_extraction.text import CountVectorizer\n",
        "from sklearn.metrics.pairwise import cosine_similarity\n",
        "import numpy as np\n",
        "import warnings\n",
        "warnings.filterwarnings('ignore')"
      ],
      "execution_count": null,
      "outputs": []
    },
    {
      "cell_type": "code",
      "metadata": {
        "colab": {
          "base_uri": "https://localhost:8080/"
        },
        "id": "laTZPacp9jXN",
        "outputId": "d955a009-ee99-4501-bf6d-efb22012ac15"
      },
      "source": [
        "nltk.download('punkt', quiet = True)"
      ],
      "execution_count": null,
      "outputs": [
        {
          "output_type": "execute_result",
          "data": {
            "text/plain": [
              "True"
            ]
          },
          "metadata": {},
          "execution_count": 3
        }
      ]
    },
    {
      "cell_type": "markdown",
      "metadata": {
        "id": "6hzGvHjl9zj5"
      },
      "source": [
        "## Proses 1 (Membuat korpus dengan mendownload artikel dari link)\n",
        "Link : https://warstek.com/kertas-stone/"
      ]
    },
    {
      "cell_type": "code",
      "metadata": {
        "colab": {
          "base_uri": "https://localhost:8080/"
        },
        "id": "T_63GwQa-I_H",
        "outputId": "e98f0a87-8751-42c3-f672-af2fa41527dd"
      },
      "source": [
        "article = Article('https://warstek.com/kertas-stone/')\n",
        "article.download()\n",
        "article.parse()\n",
        "article.nlp()\n",
        "corpus = article.text\n",
        "print(corpus)"
      ],
      "execution_count": null,
      "outputs": [
        {
          "output_type": "stream",
          "name": "stdout",
          "text": [
            "Kertas yang kita kenal sehari-hari merupakan suatu lembaran yang memiliki sifat ringan, lunak, halus, mudah dibentuk, mudah terbakar, dan mudah sobek. Namun, tahukah Anda jika kertas dapat berubah menjadi sesuatu yang kuat bahkan dapat dijadikan sebuah perisai dalam sebuah pertarungan?\n",
            "\n",
            "Gambar 1: Pertarungan Taiju melawan pasukan Tsukasa dengan menggunakan kertas ajaib sebagai perisai (Sumber: duniagames.co.id)\n",
            "\n",
            "Secara logika, rasanya memang tidak mungkin sebuah lembaran yang lunak dan mudah sobek seperti kertas dapat menjadi sesuatu kuat bak besi atau beton. Namun logika tersebut terbantahkan berdasarkan percobaan yang dilakukan oleh Senku Ishigami (tokoh dalam anime Dr. Stone) yang membuat perisai kertas untuk pelapis kereta uap dengan menggunakan prinsip ilmu kimia dalam proses pembuatannya.\n",
            "\n",
            "Berawal dari usaha kerajaan sains (yang dipimpin oleh Senku) ingin menyelamatkan Chrome dari pasukan Tsukasa, maka untuk menghindari perlawanan musuh dan menghindari adanya pertumpahan darah, Senku berinisiatif untuk menambah kekuatan alutsistanya yaitu steam gorila (kereta uap) dengan dilapisi perisai yang memiliki kekuatan seperti besi.\n",
            "\n",
            "Langkah pertama, Senku membuat kertas ajaib tersebut dari rumput dengan proses perebusan. Langkah kedua, Senku menambahkan sodium hidroksida (NaOH) untuk melunakkan rumput tersebut. Langkah ketiga, rumput yang telah direbus dengan NaOH akan menjadi lengket lalu kemudian angkat dan rumput tersebut dibersihkan dengan air bersih. Langkah keempat, Senku menghaluskan rumput dengan cara ditumbuk. Langkah kelima, Senku mengeringkan dan membentuk rumput tersebut seperti kertas dan berfungsi sebagai perisai untuk pasukannya. Langkah terakhir, Senku menambahkan resin alami yang dapat memberikan efek penguat dan pengeras yang sangat baik.\n",
            "\n",
            "Gambar 2: Senku melapisi kertas ajaibnya dengan resin alami dengan menggunakan lilin lebah cair (Sumber: benigmatica.wordpress.com)\n",
            "\n",
            "Penggabungan fleksibilitas kertas dan kerasnya sifat plastik yang berasal dari resin akan menciptakan serat karbon. Dan pembuatan kertas ajaib ini dapat dicoba di rumah karena alat dan bahan yang digunakan sangat sederhana dan juga sebagai ajang pembuktian jika Anda masih ragu dalam kekuatan kertas ajaib tersebut.\n",
            "\n",
            "Gambar 3: Kinro teman Senku sedang mengetes kekuatan kertas ajaib yang telah dibuat (benigmatica.wordpress.com)\n",
            "\n",
            "Hasilnya tombak Kinro yang hancur, sementara kertas ajaibnya hanya penyok saja dan berhasil menjadi perisai dari serangan tombak yang sangat cepat dan keras.\n",
            "\n",
            "Gambar 4: Tombak Kinro hancur setelah menghantam kertas ajaib Senku (Sumber: benigmatica.wordpress.com)\n",
            "\n",
            "Percobaan Senku ternyata bukan imajinasi belaka. Hakikatnya, konsep kimia (yaitu serat karbon) yang dilakukan Senku sudah diterapkan di dunia otomotif, roket, dan moda transportasi.\n",
            "\n",
            "Menurut Dinur (2019) menyatakan penggunaan material seperti serat karbon mulai banyak digunakan dalam dunia industri karena memiliki karakteristik yang mampu memenuhi tuntutan teknologi seperti ringan, tahan terhadap temperatur tinggi, dan tahan fatik (rusak).\n",
            "\n",
            "Selain itu, serat karbon juga memiliki ketahanan terhadap korosi, 70% lebih ringan dari baja dan 40% dari aluminium, dan memperkuat struktur benda yang dilapisi serat tersebut.\n",
            "\n",
            "Kesimpulannya, dari anime Dr. Stone yang menampilkan percobaan mengenai pembuatan serat karbon dalam bentuk kertas ajaib (digunakan sebagai perisai ketahanan dan penambah kekuatan) memberikan wawasan kepada kita agar bisa memanfaatkan sumber daya yang ada disekitar untuk dijadikan sesuatu yang memiliki nilai guna. Selain itu, juga mengajarkan kita untuk dapat berekreasi dan produktif di manapun dan kapanpun kita berada.\n",
            "\n",
            "Referensi :\n",
            "\n",
            "Dinur, R. (2019). Proses Pembuatan Komposit Sandwich Serat Karbon Menggunakan Metode Vacuum Infusion. Tugas Akhir. Yogyakarta: Universitas Islam Indonesia.\n",
            "\n",
            "Hidayah, R. (2021). Nonton Dr. Stone Season 2 Episode 5: Perisai Besi Untuk Kereta Uap. Indonesia. Diakses pada tanggal 23 September 2021 <https://duniagames.co.id/discover/article/nonton-dr-stone-season-2-episode-5>\n",
            "\n",
            "Tasuns Composite Technology. (2018). Manfaat Serat Karbon. China. Diakses pada tanggal 23 September 2021 <http://m.id.t-composites.net/info/the-benefits-of-carbon-fiber-31250972.html>\n",
            "\n",
            "Setelah selesai membaca, yuk berikan artikel ini penilaian! Klik berdasarkan jumlah bintang untuk menilai!\n",
            "\n",
            "\n",
            "\n",
            "\n",
            "\n",
            "\n",
            "\n",
            "Berikan penilaian Rata-rata nilai 4 / 5. Banyaknya vote: 1 Belum ada yang menilai! Yuk jadi yang pertama kali menilai! Baca juga:\n",
            "\n",
            "\n",
            "\n",
            "Bagikan ini: Cetak\n",
            "\n",
            "WhatsApp\n",
            "\n",
            "Facebook\n",
            "\n",
            "Twitter\n",
            "\n",
            "Telegram\n",
            "\n",
            "\n"
          ]
        }
      ]
    },
    {
      "cell_type": "markdown",
      "metadata": {
        "id": "LLW30ehi-yze"
      },
      "source": [
        "## Proses 2 (Tekenization)"
      ]
    },
    {
      "cell_type": "code",
      "metadata": {
        "colab": {
          "base_uri": "https://localhost:8080/"
        },
        "id": "dhe6tA9D-74_",
        "outputId": "23f68172-d649-410e-d2c2-847fca712e49"
      },
      "source": [
        "# Tokenization\n",
        "text = corpus\n",
        "sentence_list = nltk.sent_tokenize(text) # A list of sentences\n",
        "\n",
        "# Cetak list sentences\n",
        "print(sentence_list)"
      ],
      "execution_count": null,
      "outputs": [
        {
          "output_type": "stream",
          "name": "stdout",
          "text": [
            "['Kertas yang kita kenal sehari-hari merupakan suatu lembaran yang memiliki sifat ringan, lunak, halus, mudah dibentuk, mudah terbakar, dan mudah sobek.', 'Namun, tahukah Anda jika kertas dapat berubah menjadi sesuatu yang kuat bahkan dapat dijadikan sebuah perisai dalam sebuah pertarungan?', 'Gambar 1: Pertarungan Taiju melawan pasukan Tsukasa dengan menggunakan kertas ajaib sebagai perisai (Sumber: duniagames.co.id)\\n\\nSecara logika, rasanya memang tidak mungkin sebuah lembaran yang lunak dan mudah sobek seperti kertas dapat menjadi sesuatu kuat bak besi atau beton.', 'Namun logika tersebut terbantahkan berdasarkan percobaan yang dilakukan oleh Senku Ishigami (tokoh dalam anime Dr. Stone) yang membuat perisai kertas untuk pelapis kereta uap dengan menggunakan prinsip ilmu kimia dalam proses pembuatannya.', 'Berawal dari usaha kerajaan sains (yang dipimpin oleh Senku) ingin menyelamatkan Chrome dari pasukan Tsukasa, maka untuk menghindari perlawanan musuh dan menghindari adanya pertumpahan darah, Senku berinisiatif untuk menambah kekuatan alutsistanya yaitu steam gorila (kereta uap) dengan dilapisi perisai yang memiliki kekuatan seperti besi.', 'Langkah pertama, Senku membuat kertas ajaib tersebut dari rumput dengan proses perebusan.', 'Langkah kedua, Senku menambahkan sodium hidroksida (NaOH) untuk melunakkan rumput tersebut.', 'Langkah ketiga, rumput yang telah direbus dengan NaOH akan menjadi lengket lalu kemudian angkat dan rumput tersebut dibersihkan dengan air bersih.', 'Langkah keempat, Senku menghaluskan rumput dengan cara ditumbuk.', 'Langkah kelima, Senku mengeringkan dan membentuk rumput tersebut seperti kertas dan berfungsi sebagai perisai untuk pasukannya.', 'Langkah terakhir, Senku menambahkan resin alami yang dapat memberikan efek penguat dan pengeras yang sangat baik.', 'Gambar 2: Senku melapisi kertas ajaibnya dengan resin alami dengan menggunakan lilin lebah cair (Sumber: benigmatica.wordpress.com)\\n\\nPenggabungan fleksibilitas kertas dan kerasnya sifat plastik yang berasal dari resin akan menciptakan serat karbon.', 'Dan pembuatan kertas ajaib ini dapat dicoba di rumah karena alat dan bahan yang digunakan sangat sederhana dan juga sebagai ajang pembuktian jika Anda masih ragu dalam kekuatan kertas ajaib tersebut.', 'Gambar 3: Kinro teman Senku sedang mengetes kekuatan kertas ajaib yang telah dibuat (benigmatica.wordpress.com)\\n\\nHasilnya tombak Kinro yang hancur, sementara kertas ajaibnya hanya penyok saja dan berhasil menjadi perisai dari serangan tombak yang sangat cepat dan keras.', 'Gambar 4: Tombak Kinro hancur setelah menghantam kertas ajaib Senku (Sumber: benigmatica.wordpress.com)\\n\\nPercobaan Senku ternyata bukan imajinasi belaka.', 'Hakikatnya, konsep kimia (yaitu serat karbon) yang dilakukan Senku sudah diterapkan di dunia otomotif, roket, dan moda transportasi.', 'Menurut Dinur (2019) menyatakan penggunaan material seperti serat karbon mulai banyak digunakan dalam dunia industri karena memiliki karakteristik yang mampu memenuhi tuntutan teknologi seperti ringan, tahan terhadap temperatur tinggi, dan tahan fatik (rusak).', 'Selain itu, serat karbon juga memiliki ketahanan terhadap korosi, 70% lebih ringan dari baja dan 40% dari aluminium, dan memperkuat struktur benda yang dilapisi serat tersebut.', 'Kesimpulannya, dari anime Dr. Stone yang menampilkan percobaan mengenai pembuatan serat karbon dalam bentuk kertas ajaib (digunakan sebagai perisai ketahanan dan penambah kekuatan) memberikan wawasan kepada kita agar bisa memanfaatkan sumber daya yang ada disekitar untuk dijadikan sesuatu yang memiliki nilai guna.', 'Selain itu, juga mengajarkan kita untuk dapat berekreasi dan produktif di manapun dan kapanpun kita berada.', 'Referensi :\\n\\nDinur, R. (2019).', 'Proses Pembuatan Komposit Sandwich Serat Karbon Menggunakan Metode Vacuum Infusion.', 'Tugas Akhir.', 'Yogyakarta: Universitas Islam Indonesia.', 'Hidayah, R. (2021).', 'Nonton Dr. Stone Season 2 Episode 5: Perisai Besi Untuk Kereta Uap.', 'Indonesia.', 'Diakses pada tanggal 23 September 2021 <https://duniagames.co.id/discover/article/nonton-dr-stone-season-2-episode-5>\\n\\nTasuns Composite Technology.', '(2018).', 'Manfaat Serat Karbon.', 'China.', 'Diakses pada tanggal 23 September 2021 <http://m.id.t-composites.net/info/the-benefits-of-carbon-fiber-31250972.html>\\n\\nSetelah selesai membaca, yuk berikan artikel ini penilaian!', 'Klik berdasarkan jumlah bintang untuk menilai!', 'Berikan penilaian Rata-rata nilai 4 / 5.', 'Banyaknya vote: 1 Belum ada yang menilai!', 'Yuk jadi yang pertama kali menilai!', 'Baca juga:\\n\\n\\n\\nBagikan ini: Cetak\\n\\nWhatsApp\\n\\nFacebook\\n\\nTwitter\\n\\nTelegram']\n"
          ]
        }
      ]
    },
    {
      "cell_type": "code",
      "metadata": {
        "id": "PxNOrQPz_l6m"
      },
      "source": [
        "# Fungsi untuk mengembalikan respon sapaan ke pengguna\n",
        "def greeting_response(text):\n",
        "  text = text.lower()\n",
        "\n",
        "  # Respon sapaan dari bot\n",
        "  bot_greeting = ['halo', 'hai', 'iya, ada apa?', 'ada yang bisa saya bantu?', 'selamat datang']\n",
        "\n",
        "  # Sapaan pengguna\n",
        "  user_greeting = ['permisi', 'halo', 'hai', 'salam', 'wassup']\n",
        "\n",
        "  for word in text.split():\n",
        "    if word in user_greeting:\n",
        "      return random.choice(bot_greeting)\n",
        "\n",
        "  # Respon sapaan secara acak dibuat huruf kecil semua\n",
        "  def gratitude_response():\n",
        "    text = text.lower()"
      ],
      "execution_count": null,
      "outputs": []
    },
    {
      "cell_type": "code",
      "metadata": {
        "id": "-xqYDVfVDwXY"
      },
      "source": [
        "# Mengurutkan Variabel\n",
        "def index_sort(list_var):\n",
        "  length = len(list_var)\n",
        "  list_index = list(range(0, length))\n",
        "\n",
        "  x = list_var\n",
        "  for i in range(length):\n",
        "    for j in range(length):\n",
        "      if x[list_index[i]] > x[list_index[j]]:\n",
        "\n",
        "        # Menukar\n",
        "        temp = list_index[i]\n",
        "        list_index[i] = list_index[j]\n",
        "        list_index[j] = temp\n",
        "\n",
        "  return list_index"
      ],
      "execution_count": null,
      "outputs": []
    },
    {
      "cell_type": "code",
      "metadata": {
        "id": "e0AM01gZF8ic"
      },
      "source": [
        "# Membuat respon bots\n",
        "def bot_response(user_input):\n",
        "  user_input = user_input.lower() # Merubah input dari user menjadi huruf kecil\n",
        "  sentence_list.append(user_input) # Memasukan input user ke dalam korpus yang kita buat (Korpus terletak pada variabel sentence_list)\n",
        "  bot_response = '' # Inisialisasi variabel dari bot response\n",
        "\n",
        "  cm = CountVectorizer().fit_transform(sentence_list) # Melakukan ekstraksi fitur pada korpus menggunakan CountVectorizer (Bag of Word)/Mengubah santence_list menjadi vektor\n",
        "\n",
        "  similarity_score = cosine_similarity(cm[-1], cm) # Menghitung cosine similarity antara hasil fitur ekstraksi input user (cm[-1]) dengan semua data dalam korpus\n",
        "  similarity_score_list = similarity_score.flatten() #Mengubah hasil perhitungan cosine similarity menjadi bentuk list 1D\n",
        "  index = index_sort(similarity_score_list) # Mengurutkan index pada similarity score berdasarkan elmen yang terbesar, kemudian hasilnya disimpan pada list bernama index\n",
        "  index = index[1:]\n",
        "\n",
        "  response_flag = 0\n",
        "  for i in range(len(index)):\n",
        "    if similarity_score_list[index[i]] > 0.0: # Jika similarity_score_list pada index lebih dari 0 maka kemiripannya lebih besar\n",
        "      bot_response = bot_response+' '+sentence_list[index[i]] # Respon dari bot\n",
        "      response_flag = 1\n",
        "\n",
        "    if response_flag == 0:\n",
        "      bot_response = bot_response+\" \"+\"Maaf hamba belum mengerti\" # Jika response_flag = 0 (tidak ada yang cocok) maka akan memberikan respon minta maaf\n",
        "\n",
        "    sentence_list.remove(user_input) # Menghapus user_input yg sudah dimasikan ke dalam santence_list (Korpus)\n",
        "\n",
        "    return bot_response"
      ],
      "execution_count": null,
      "outputs": []
    },
    {
      "cell_type": "markdown",
      "metadata": {
        "id": "MC0PFNXUNMGC"
      },
      "source": [
        "## Proses 4 (end Process, Membuat chat box)"
      ]
    },
    {
      "cell_type": "code",
      "metadata": {
        "colab": {
          "base_uri": "https://localhost:8080/"
        },
        "id": "bMmdGcAONLQz",
        "outputId": "94f1205c-154f-4d42-f204-228d1c2ac300"
      },
      "source": [
        "#Start Chat\n",
        "print(\"Weebs Bot: Mau nanya apa kamu tentang kertasnya Senku\")\n",
        "\n",
        "exit_list = ['exit','bye','keluar','quit', 'sampai jumpa', 'sayounara']\n",
        "\n",
        "while(True):\n",
        "    user_input = input() #mengambil input pada user\n",
        "    if user_input.lower() in exit_list: #kalau input dari user ada didalam exit_list maka program akan berhenti\n",
        "        print('Weebs Bot: Bye Bye Sampai Jumpa Lagi')\n",
        "        print('Weebs Bot: Selamat anda menjadi WIBU!!!')\n",
        "        break\n",
        "    else:\n",
        "        if greeting_response(user_input)!= None: #Mengecek apakah input dari user masuk kedalam greeting atau bukan\n",
        "            print('Weebs Bot: '+ greeting_response(user_input)) #Jika masuk kedalam greeting maka bot akan melakukan response terhadap greeting tersebut\n",
        "        else:\n",
        "            print('Weebs Bot: '+ bot_response(user_input)) #Jika bukan, maka bot akan memanggil fungsi bot_response untuk menentukan respon apa yg akan ia keluarkan sesuai dengan input dari user"
      ],
      "execution_count": null,
      "outputs": [
        {
          "output_type": "stream",
          "name": "stdout",
          "text": [
            "Weebs Bot: Mau nanya apa kamu tentang kertasnya Senku\n",
            "cara membuat kertas ajaib\n",
            "Weebs Bot:  Langkah pertama, Senku membuat kertas ajaib tersebut dari rumput dengan proses perebusan.\n",
            "sayounara\n",
            "Weebs Bot: Bye Bye Sampai Jumpa Lagi\n",
            "Weebs Bot: Selamat anda menjadi wibu\n"
          ]
        }
      ]
    }
  ]
}